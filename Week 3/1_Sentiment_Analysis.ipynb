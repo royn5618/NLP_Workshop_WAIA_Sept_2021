{
 "cells": [
  {
   "cell_type": "markdown",
   "metadata": {},
   "source": [
    "# Sentiment Analysis\n",
    "\n",
    "**Introduction**\n",
    " \n",
    "Sentiment Analysis is a process of analyzing the sentiment expressed in a text.\n",
    "\n",
    "Typically, in AI or Data Science, sentiment could have either two or three classes.\n",
    "\n",
    "If two classes - positive and negative sentiment.\n",
    "\n",
    "If three classes - positive, neutral and negative sentiment.\n",
    "\n",
    "\n",
    "**TextBlob**\n",
    "\n",
    "TextBlob returns polarity and subjectivity of a sentence. Polarity lies between [-1,1], -1 defines a negative sentiment and 1 defines a positive sentiment. Negation words reverse the polarity.\n",
    "\n",
    "Documentation - https://textblob.readthedocs.io/en/dev/"
   ]
  },
  {
   "cell_type": "code",
   "execution_count": 1,
   "metadata": {
    "ExecuteTime": {
     "end_time": "2021-09-22T16:15:26.099976Z",
     "start_time": "2021-09-22T16:15:24.372826Z"
    }
   },
   "outputs": [],
   "source": [
    "from textblob import TextBlob"
   ]
  },
  {
   "cell_type": "code",
   "execution_count": 8,
   "metadata": {
    "ExecuteTime": {
     "end_time": "2021-09-22T16:15:49.762434Z",
     "start_time": "2021-09-22T16:15:49.517429Z"
    }
   },
   "outputs": [
    {
     "data": {
      "text/html": [
       "<div>\n",
       "<style scoped>\n",
       "    .dataframe tbody tr th:only-of-type {\n",
       "        vertical-align: middle;\n",
       "    }\n",
       "\n",
       "    .dataframe tbody tr th {\n",
       "        vertical-align: top;\n",
       "    }\n",
       "\n",
       "    .dataframe thead th {\n",
       "        text-align: right;\n",
       "    }\n",
       "</style>\n",
       "<table border=\"1\" class=\"dataframe\">\n",
       "  <thead>\n",
       "    <tr style=\"text-align: right;\">\n",
       "      <th></th>\n",
       "      <th>ID</th>\n",
       "      <th>SentimentText</th>\n",
       "      <th>Sentiment</th>\n",
       "    </tr>\n",
       "  </thead>\n",
       "  <tbody>\n",
       "    <tr>\n",
       "      <th>0</th>\n",
       "      <td>0</td>\n",
       "      <td>first think another disney movie might good it...</td>\n",
       "      <td>1</td>\n",
       "    </tr>\n",
       "    <tr>\n",
       "      <th>1</th>\n",
       "      <td>1</td>\n",
       "      <td>put aside dr house repeat missed desperate hou...</td>\n",
       "      <td>0</td>\n",
       "    </tr>\n",
       "    <tr>\n",
       "      <th>2</th>\n",
       "      <td>2</td>\n",
       "      <td>big fan stephen king s work film made even gre...</td>\n",
       "      <td>1</td>\n",
       "    </tr>\n",
       "    <tr>\n",
       "      <th>3</th>\n",
       "      <td>3</td>\n",
       "      <td>watched horrid thing tv needless say one movie...</td>\n",
       "      <td>0</td>\n",
       "    </tr>\n",
       "    <tr>\n",
       "      <th>4</th>\n",
       "      <td>4</td>\n",
       "      <td>truly enjoyed film acting terrific plot jeff c...</td>\n",
       "      <td>1</td>\n",
       "    </tr>\n",
       "  </tbody>\n",
       "</table>\n",
       "</div>"
      ],
      "text/plain": [
       "   ID                                      SentimentText  Sentiment\n",
       "0   0  first think another disney movie might good it...          1\n",
       "1   1  put aside dr house repeat missed desperate hou...          0\n",
       "2   2  big fan stephen king s work film made even gre...          1\n",
       "3   3  watched horrid thing tv needless say one movie...          0\n",
       "4   4  truly enjoyed film acting terrific plot jeff c...          1"
      ]
     },
     "execution_count": 8,
     "metadata": {},
     "output_type": "execute_result"
    }
   ],
   "source": [
    "import pandas as pd\n",
    "\n",
    "df_train = pd.read_csv('../Datasets/imdb_review/train_data.csv')\n",
    "df_train.head(5)"
   ]
  },
  {
   "cell_type": "code",
   "execution_count": 3,
   "metadata": {
    "ExecuteTime": {
     "end_time": "2021-09-22T16:15:26.706263Z",
     "start_time": "2021-09-22T16:15:26.690944Z"
    }
   },
   "outputs": [
    {
     "data": {
      "text/plain": [
       "'first think another disney movie might good it s kids movie watch it can not help enjoy it ages love movie first saw movie years later still love it danny glover superb could play part better christopher lloyd hilarious perfect part tony danza believable mel clark can not help enjoy movie give'"
      ]
     },
     "execution_count": 3,
     "metadata": {},
     "output_type": "execute_result"
    }
   ],
   "source": [
    "sample_text = df_train['SentimentText'][0]\n",
    "sample_text"
   ]
  },
  {
   "cell_type": "code",
   "execution_count": 4,
   "metadata": {
    "ExecuteTime": {
     "end_time": "2021-09-22T16:15:26.817856Z",
     "start_time": "2021-09-22T16:15:26.709254Z"
    }
   },
   "outputs": [
    {
     "data": {
      "text/plain": [
       "[('first', 'RB'),\n",
       " ('think', 'VB'),\n",
       " ('another', 'DT'),\n",
       " ('disney', 'NN'),\n",
       " ('movie', 'NN'),\n",
       " ('might', 'MD'),\n",
       " ('good', 'VB'),\n",
       " ('it', 'PRP'),\n",
       " ('s', 'JJ'),\n",
       " ('kids', 'NNS'),\n",
       " ('movie', 'NN'),\n",
       " ('watch', 'IN'),\n",
       " ('it', 'PRP'),\n",
       " ('can', 'MD'),\n",
       " ('not', 'RB'),\n",
       " ('help', 'VB'),\n",
       " ('enjoy', 'VB'),\n",
       " ('it', 'PRP'),\n",
       " ('ages', 'VBZ'),\n",
       " ('love', 'VB'),\n",
       " ('movie', 'NN'),\n",
       " ('first', 'RB'),\n",
       " ('saw', 'VBD'),\n",
       " ('movie', 'NN'),\n",
       " ('years', 'NNS'),\n",
       " ('later', 'RB'),\n",
       " ('still', 'RB'),\n",
       " ('love', 'VB'),\n",
       " ('it', 'PRP'),\n",
       " ('danny', 'JJ'),\n",
       " ('glover', 'NN'),\n",
       " ('superb', 'NN'),\n",
       " ('could', 'MD'),\n",
       " ('play', 'VB'),\n",
       " ('part', 'NN'),\n",
       " ('better', 'RBR'),\n",
       " ('christopher', 'NN'),\n",
       " ('lloyd', 'RB'),\n",
       " ('hilarious', 'JJ'),\n",
       " ('perfect', 'JJ'),\n",
       " ('part', 'NN'),\n",
       " ('tony', 'NN'),\n",
       " ('danza', 'NN'),\n",
       " ('believable', 'JJ'),\n",
       " ('mel', 'NN'),\n",
       " ('clark', 'NN'),\n",
       " ('can', 'MD'),\n",
       " ('not', 'RB'),\n",
       " ('help', 'VB'),\n",
       " ('enjoy', 'VB'),\n",
       " ('movie', 'NN'),\n",
       " ('give', 'VB')]"
      ]
     },
     "execution_count": 4,
     "metadata": {},
     "output_type": "execute_result"
    }
   ],
   "source": [
    "blob = TextBlob(sample_text)\n",
    "blob.tags"
   ]
  },
  {
   "cell_type": "code",
   "execution_count": 5,
   "metadata": {
    "ExecuteTime": {
     "end_time": "2021-09-22T16:15:26.865695Z",
     "start_time": "2021-09-22T16:15:26.818808Z"
    }
   },
   "outputs": [
    {
     "name": "stdout",
     "output_type": "stream",
     "text": [
      "0.5\n"
     ]
    }
   ],
   "source": [
    "for sentence in blob.sentences:\n",
    "    print(sentence.sentiment.polarity)"
   ]
  },
  {
   "cell_type": "code",
   "execution_count": 6,
   "metadata": {
    "ExecuteTime": {
     "end_time": "2021-09-22T16:15:26.880669Z",
     "start_time": "2021-09-22T16:15:26.866649Z"
    }
   },
   "outputs": [],
   "source": [
    "def get_sentiment(x, threshold):\n",
    "    _sentiment = TextBlob(x).sentiment.polarity\n",
    "    if _sentiment > threshold:\n",
    "        return 1\n",
    "    else:\n",
    "        return 0"
   ]
  },
  {
   "cell_type": "code",
   "execution_count": null,
   "metadata": {},
   "outputs": [],
   "source": [
    "df_train['text_blob_sentiment_0'] = df_train['SentimentText'].apply(lambda x: get_sentiment(x, 0))\n",
    "df_train['text_blob_sentiment_0.1'] = df_train['SentimentText'].apply(lambda x: get_sentiment(x, 0.1))"
   ]
  },
  {
   "cell_type": "code",
   "execution_count": null,
   "metadata": {
    "ExecuteTime": {
     "end_time": "2021-09-22T16:15:40.609312Z",
     "start_time": "2021-09-22T16:15:24.387Z"
    }
   },
   "outputs": [],
   "source": [
    "df_train"
   ]
  },
  {
   "cell_type": "code",
   "execution_count": null,
   "metadata": {
    "ExecuteTime": {
     "end_time": "2021-09-22T16:15:40.611406Z",
     "start_time": "2021-09-22T16:15:24.391Z"
    }
   },
   "outputs": [],
   "source": [
    "df_train['Sentiment'].value_counts()"
   ]
  },
  {
   "cell_type": "code",
   "execution_count": null,
   "metadata": {
    "ExecuteTime": {
     "end_time": "2021-09-22T16:15:40.611406Z",
     "start_time": "2021-09-22T16:15:24.393Z"
    }
   },
   "outputs": [],
   "source": [
    "from sklearn.metrics import accuracy_score\n",
    "accuracy_score(df_train['Sentiment'], df_train['text_blob_sentiment_0'])"
   ]
  },
  {
   "cell_type": "code",
   "execution_count": null,
   "metadata": {
    "ExecuteTime": {
     "end_time": "2021-09-22T16:15:40.611406Z",
     "start_time": "2021-09-22T16:15:24.395Z"
    }
   },
   "outputs": [],
   "source": [
    "accuracy_score(df_train['Sentiment'], df_train['text_blob_sentiment_0.1'])"
   ]
  },
  {
   "cell_type": "markdown",
   "metadata": {},
   "source": [
    "## Sentiment Analysis using Transformers"
   ]
  },
  {
   "cell_type": "code",
   "execution_count": 9,
   "metadata": {
    "ExecuteTime": {
     "end_time": "2021-09-22T16:15:55.958185Z",
     "start_time": "2021-09-22T16:15:52.512505Z"
    }
   },
   "outputs": [
    {
     "name": "stderr",
     "output_type": "stream",
     "text": [
      "C:\\Users\\nroy0\\anaconda3\\lib\\site-packages\\torchaudio\\extension\\extension.py:13: UserWarning: torchaudio C++ extension is not available.\n",
      "  warnings.warn('torchaudio C++ extension is not available.')\n",
      "C:\\Users\\nroy0\\anaconda3\\lib\\site-packages\\torchaudio\\backend\\utils.py:89: UserWarning: No audio backend is available.\n",
      "  warnings.warn('No audio backend is available.')\n"
     ]
    }
   ],
   "source": [
    "from transformers import pipeline"
   ]
  },
  {
   "cell_type": "code",
   "execution_count": 10,
   "metadata": {
    "ExecuteTime": {
     "end_time": "2021-09-22T16:15:59.979329Z",
     "start_time": "2021-09-22T16:15:56.117127Z"
    }
   },
   "outputs": [],
   "source": [
    "nlp = pipeline('sentiment-analysis')"
   ]
  },
  {
   "cell_type": "code",
   "execution_count": 11,
   "metadata": {
    "ExecuteTime": {
     "end_time": "2021-09-22T16:16:00.158177Z",
     "start_time": "2021-09-22T16:16:00.111396Z"
    }
   },
   "outputs": [
    {
     "data": {
      "text/plain": [
       "[{'label': 'NEGATIVE', 'score': 0.999608039855957}]"
      ]
     },
     "execution_count": 11,
     "metadata": {},
     "output_type": "execute_result"
    }
   ],
   "source": [
    "nlp('This was an absolutely terrible movie.')"
   ]
  },
  {
   "cell_type": "code",
   "execution_count": 12,
   "metadata": {
    "ExecuteTime": {
     "end_time": "2021-09-22T16:16:00.300701Z",
     "start_time": "2021-09-22T16:16:00.286749Z"
    }
   },
   "outputs": [],
   "source": [
    "def get_hf_sentiment(x):\n",
    "    if len(x) > 2000:\n",
    "        _sentiment = nlp(x[:2000])[0]['label']\n",
    "    else:\n",
    "        _sentiment = nlp(x)[0]['label']\n",
    "    if _sentiment == 'POSITIVE':\n",
    "        return 1\n",
    "    else:\n",
    "        return 0"
   ]
  },
  {
   "cell_type": "code",
   "execution_count": null,
   "metadata": {
    "ExecuteTime": {
     "start_time": "2021-09-22T16:15:58.748Z"
    }
   },
   "outputs": [],
   "source": [
    "df_train['hf_sentiment'] = df_train['SentimentText'].apply(lambda x: get_hf_sentiment(x))"
   ]
  },
  {
   "cell_type": "code",
   "execution_count": null,
   "metadata": {
    "ExecuteTime": {
     "start_time": "2021-09-22T16:28:56.443Z"
    }
   },
   "outputs": [],
   "source": [
    "accuracy_score(df_train['Sentiment'], df_train['hf_sentiment'])"
   ]
  },
  {
   "cell_type": "code",
   "execution_count": null,
   "metadata": {},
   "outputs": [],
   "source": []
  }
 ],
 "metadata": {
  "kernelspec": {
   "display_name": "Python 3",
   "language": "python",
   "name": "python3"
  },
  "language_info": {
   "codemirror_mode": {
    "name": "ipython",
    "version": 3
   },
   "file_extension": ".py",
   "mimetype": "text/x-python",
   "name": "python",
   "nbconvert_exporter": "python",
   "pygments_lexer": "ipython3",
   "version": "3.8.5"
  },
  "toc": {
   "base_numbering": 1,
   "nav_menu": {},
   "number_sections": true,
   "sideBar": true,
   "skip_h1_title": false,
   "title_cell": "Table of Contents",
   "title_sidebar": "Contents",
   "toc_cell": false,
   "toc_position": {},
   "toc_section_display": true,
   "toc_window_display": false
  },
  "varInspector": {
   "cols": {
    "lenName": 16,
    "lenType": 16,
    "lenVar": 40
   },
   "kernels_config": {
    "python": {
     "delete_cmd_postfix": "",
     "delete_cmd_prefix": "del ",
     "library": "var_list.py",
     "varRefreshCmd": "print(var_dic_list())"
    },
    "r": {
     "delete_cmd_postfix": ") ",
     "delete_cmd_prefix": "rm(",
     "library": "var_list.r",
     "varRefreshCmd": "cat(var_dic_list()) "
    }
   },
   "types_to_exclude": [
    "module",
    "function",
    "builtin_function_or_method",
    "instance",
    "_Feature"
   ],
   "window_display": false
  }
 },
 "nbformat": 4,
 "nbformat_minor": 4
}
