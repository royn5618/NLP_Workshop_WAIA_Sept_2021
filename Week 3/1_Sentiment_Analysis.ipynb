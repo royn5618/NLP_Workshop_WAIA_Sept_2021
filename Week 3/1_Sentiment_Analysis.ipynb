{
 "cells": [
  {
   "cell_type": "markdown",
   "metadata": {},
   "source": [
    "# Sentiment Analysis\n",
    "\n",
    "**Introduction**\n",
    " \n",
    "Sentiment Analysis is a process of analyzing the sentiment expressed in a text.\n",
    "\n",
    "Typically, in AI or Data Science, sentiment could have either two or three classes.\n",
    "\n",
    "If two classes - positive and negative sentiment.\n",
    "\n",
    "If three classes - positive, neutral and negative sentiment.\n",
    "\n",
    "\n",
    "## TextBlob\n",
    "\n",
    "TextBlob returns polarity and subjectivity of a sentence. Polarity lies between [-1,1], -1 defines a negative sentiment and 1 defines a positive sentiment. Negation words reverse the polarity.\n",
    "\n",
    "Documentation - https://textblob.readthedocs.io/en/dev/"
   ]
  },
  {
   "cell_type": "code",
   "execution_count": null,
   "metadata": {},
   "outputs": [],
   "source": [
    "# !pip install -U textblob\n",
    "# !python -m textblob.download_corpora"
   ]
  },
  {
   "cell_type": "code",
   "execution_count": 15,
   "metadata": {
    "ExecuteTime": {
     "end_time": "2021-09-22T18:23:24.247466Z",
     "start_time": "2021-09-22T18:23:24.125074Z"
    }
   },
   "outputs": [],
   "source": [
    "from textblob import TextBlob"
   ]
  },
  {
   "cell_type": "code",
   "execution_count": 16,
   "metadata": {
    "ExecuteTime": {
     "end_time": "2021-09-22T18:23:30.616030Z",
     "start_time": "2021-09-22T18:23:29.449532Z"
    }
   },
   "outputs": [
    {
     "data": {
      "text/html": [
       "<div>\n",
       "<style scoped>\n",
       "    .dataframe tbody tr th:only-of-type {\n",
       "        vertical-align: middle;\n",
       "    }\n",
       "\n",
       "    .dataframe tbody tr th {\n",
       "        vertical-align: top;\n",
       "    }\n",
       "\n",
       "    .dataframe thead th {\n",
       "        text-align: right;\n",
       "    }\n",
       "</style>\n",
       "<table border=\"1\" class=\"dataframe\">\n",
       "  <thead>\n",
       "    <tr style=\"text-align: right;\">\n",
       "      <th></th>\n",
       "      <th>ID</th>\n",
       "      <th>SentimentText</th>\n",
       "      <th>Sentiment</th>\n",
       "    </tr>\n",
       "  </thead>\n",
       "  <tbody>\n",
       "    <tr>\n",
       "      <th>0</th>\n",
       "      <td>0</td>\n",
       "      <td>first think another disney movie might good it...</td>\n",
       "      <td>1</td>\n",
       "    </tr>\n",
       "    <tr>\n",
       "      <th>1</th>\n",
       "      <td>1</td>\n",
       "      <td>put aside dr house repeat missed desperate hou...</td>\n",
       "      <td>0</td>\n",
       "    </tr>\n",
       "    <tr>\n",
       "      <th>2</th>\n",
       "      <td>2</td>\n",
       "      <td>big fan stephen king s work film made even gre...</td>\n",
       "      <td>1</td>\n",
       "    </tr>\n",
       "    <tr>\n",
       "      <th>3</th>\n",
       "      <td>3</td>\n",
       "      <td>watched horrid thing tv needless say one movie...</td>\n",
       "      <td>0</td>\n",
       "    </tr>\n",
       "    <tr>\n",
       "      <th>4</th>\n",
       "      <td>4</td>\n",
       "      <td>truly enjoyed film acting terrific plot jeff c...</td>\n",
       "      <td>1</td>\n",
       "    </tr>\n",
       "  </tbody>\n",
       "</table>\n",
       "</div>"
      ],
      "text/plain": [
       "   ID                                      SentimentText  Sentiment\n",
       "0   0  first think another disney movie might good it...          1\n",
       "1   1  put aside dr house repeat missed desperate hou...          0\n",
       "2   2  big fan stephen king s work film made even gre...          1\n",
       "3   3  watched horrid thing tv needless say one movie...          0\n",
       "4   4  truly enjoyed film acting terrific plot jeff c...          1"
      ]
     },
     "execution_count": 16,
     "metadata": {},
     "output_type": "execute_result"
    }
   ],
   "source": [
    "import pandas as pd\n",
    "\n",
    "df_train = pd.read_csv('../Datasets/imdb_review/train_data.csv')\n",
    "df_train.head(5)"
   ]
  },
  {
   "cell_type": "code",
   "execution_count": 3,
   "metadata": {
    "ExecuteTime": {
     "end_time": "2021-09-22T16:15:26.706263Z",
     "start_time": "2021-09-22T16:15:26.690944Z"
    }
   },
   "outputs": [
    {
     "data": {
      "text/plain": [
       "'first think another disney movie might good it s kids movie watch it can not help enjoy it ages love movie first saw movie years later still love it danny glover superb could play part better christopher lloyd hilarious perfect part tony danza believable mel clark can not help enjoy movie give'"
      ]
     },
     "execution_count": 3,
     "metadata": {},
     "output_type": "execute_result"
    }
   ],
   "source": [
    "sample_text = df_train['SentimentText'][0]\n",
    "sample_text"
   ]
  },
  {
   "cell_type": "code",
   "execution_count": 17,
   "metadata": {
    "ExecuteTime": {
     "end_time": "2021-09-22T18:24:23.532232Z",
     "start_time": "2021-09-22T18:24:22.957387Z"
    }
   },
   "outputs": [
    {
     "data": {
      "text/plain": [
       "[('first', 'RB'),\n",
       " ('think', 'VB'),\n",
       " ('another', 'DT'),\n",
       " ('disney', 'NN'),\n",
       " ('movie', 'NN'),\n",
       " ('might', 'MD'),\n",
       " ('good', 'VB'),\n",
       " ('it', 'PRP'),\n",
       " ('s', 'JJ'),\n",
       " ('kids', 'NNS'),\n",
       " ('movie', 'NN'),\n",
       " ('watch', 'IN'),\n",
       " ('it', 'PRP'),\n",
       " ('can', 'MD'),\n",
       " ('not', 'RB'),\n",
       " ('help', 'VB'),\n",
       " ('enjoy', 'VB'),\n",
       " ('it', 'PRP'),\n",
       " ('ages', 'VBZ'),\n",
       " ('love', 'VB'),\n",
       " ('movie', 'NN'),\n",
       " ('first', 'RB'),\n",
       " ('saw', 'VBD'),\n",
       " ('movie', 'NN'),\n",
       " ('years', 'NNS'),\n",
       " ('later', 'RB'),\n",
       " ('still', 'RB'),\n",
       " ('love', 'VB'),\n",
       " ('it', 'PRP'),\n",
       " ('danny', 'JJ'),\n",
       " ('glover', 'NN'),\n",
       " ('superb', 'NN'),\n",
       " ('could', 'MD'),\n",
       " ('play', 'VB'),\n",
       " ('part', 'NN'),\n",
       " ('better', 'RBR'),\n",
       " ('christopher', 'NN'),\n",
       " ('lloyd', 'RB'),\n",
       " ('hilarious', 'JJ'),\n",
       " ('perfect', 'JJ'),\n",
       " ('part', 'NN'),\n",
       " ('tony', 'NN'),\n",
       " ('danza', 'NN'),\n",
       " ('believable', 'JJ'),\n",
       " ('mel', 'NN'),\n",
       " ('clark', 'NN'),\n",
       " ('can', 'MD'),\n",
       " ('not', 'RB'),\n",
       " ('help', 'VB'),\n",
       " ('enjoy', 'VB'),\n",
       " ('movie', 'NN'),\n",
       " ('give', 'VB')]"
      ]
     },
     "execution_count": 17,
     "metadata": {},
     "output_type": "execute_result"
    }
   ],
   "source": [
    "blob = TextBlob(sample_text)\n",
    "blob.tags"
   ]
  },
  {
   "cell_type": "code",
   "execution_count": 18,
   "metadata": {
    "ExecuteTime": {
     "end_time": "2021-09-22T18:26:15.238540Z",
     "start_time": "2021-09-22T18:26:15.158745Z"
    }
   },
   "outputs": [
    {
     "name": "stdout",
     "output_type": "stream",
     "text": [
      "0.5\n"
     ]
    }
   ],
   "source": [
    "for sentence in blob.sentences:\n",
    "    print(sentence.sentiment.polarity)"
   ]
  },
  {
   "cell_type": "code",
   "execution_count": 19,
   "metadata": {
    "ExecuteTime": {
     "end_time": "2021-09-22T18:26:32.981726Z",
     "start_time": "2021-09-22T18:26:32.965829Z"
    }
   },
   "outputs": [],
   "source": [
    "blob = TextBlob(sample_text)"
   ]
  },
  {
   "cell_type": "code",
   "execution_count": 21,
   "metadata": {
    "ExecuteTime": {
     "end_time": "2021-09-22T18:26:52.700916Z",
     "start_time": "2021-09-22T18:26:52.679302Z"
    }
   },
   "outputs": [
    {
     "data": {
      "text/plain": [
       "0.5"
      ]
     },
     "execution_count": 21,
     "metadata": {},
     "output_type": "execute_result"
    }
   ],
   "source": [
    "blob.sentiment.polarity"
   ]
  },
  {
   "cell_type": "code",
   "execution_count": 6,
   "metadata": {
    "ExecuteTime": {
     "end_time": "2021-09-22T16:15:26.880669Z",
     "start_time": "2021-09-22T16:15:26.866649Z"
    }
   },
   "outputs": [],
   "source": [
    "def get_sentiment(x, threshold):\n",
    "    _sentiment = TextBlob(x).sentiment.polarity\n",
    "    if _sentiment > threshold:\n",
    "        return 1\n",
    "    else:\n",
    "        return 0"
   ]
  },
  {
   "cell_type": "code",
   "execution_count": 22,
   "metadata": {
    "ExecuteTime": {
     "end_time": "2021-09-22T18:33:10.118018Z",
     "start_time": "2021-09-22T18:30:24.994941Z"
    }
   },
   "outputs": [],
   "source": [
    "df_train['text_blob_sentiment_0'] = df_train['SentimentText'].apply(lambda x: get_sentiment(x, 0))\n",
    "df_train['text_blob_sentiment_0.1'] = df_train['SentimentText'].apply(lambda x: get_sentiment(x, 0.1))"
   ]
  },
  {
   "cell_type": "code",
   "execution_count": 23,
   "metadata": {
    "ExecuteTime": {
     "end_time": "2021-09-22T18:33:10.552386Z",
     "start_time": "2021-09-22T18:33:10.497595Z"
    }
   },
   "outputs": [
    {
     "data": {
      "text/html": [
       "<div>\n",
       "<style scoped>\n",
       "    .dataframe tbody tr th:only-of-type {\n",
       "        vertical-align: middle;\n",
       "    }\n",
       "\n",
       "    .dataframe tbody tr th {\n",
       "        vertical-align: top;\n",
       "    }\n",
       "\n",
       "    .dataframe thead th {\n",
       "        text-align: right;\n",
       "    }\n",
       "</style>\n",
       "<table border=\"1\" class=\"dataframe\">\n",
       "  <thead>\n",
       "    <tr style=\"text-align: right;\">\n",
       "      <th></th>\n",
       "      <th>ID</th>\n",
       "      <th>SentimentText</th>\n",
       "      <th>Sentiment</th>\n",
       "      <th>text_blob_sentiment_0</th>\n",
       "      <th>text_blob_sentiment_0.1</th>\n",
       "    </tr>\n",
       "  </thead>\n",
       "  <tbody>\n",
       "    <tr>\n",
       "      <th>0</th>\n",
       "      <td>0</td>\n",
       "      <td>first think another disney movie might good it...</td>\n",
       "      <td>1</td>\n",
       "      <td>1</td>\n",
       "      <td>1</td>\n",
       "    </tr>\n",
       "    <tr>\n",
       "      <th>1</th>\n",
       "      <td>1</td>\n",
       "      <td>put aside dr house repeat missed desperate hou...</td>\n",
       "      <td>0</td>\n",
       "      <td>1</td>\n",
       "      <td>0</td>\n",
       "    </tr>\n",
       "    <tr>\n",
       "      <th>2</th>\n",
       "      <td>2</td>\n",
       "      <td>big fan stephen king s work film made even gre...</td>\n",
       "      <td>1</td>\n",
       "      <td>1</td>\n",
       "      <td>1</td>\n",
       "    </tr>\n",
       "    <tr>\n",
       "      <th>3</th>\n",
       "      <td>3</td>\n",
       "      <td>watched horrid thing tv needless say one movie...</td>\n",
       "      <td>0</td>\n",
       "      <td>0</td>\n",
       "      <td>0</td>\n",
       "    </tr>\n",
       "    <tr>\n",
       "      <th>4</th>\n",
       "      <td>4</td>\n",
       "      <td>truly enjoyed film acting terrific plot jeff c...</td>\n",
       "      <td>1</td>\n",
       "      <td>1</td>\n",
       "      <td>0</td>\n",
       "    </tr>\n",
       "    <tr>\n",
       "      <th>...</th>\n",
       "      <td>...</td>\n",
       "      <td>...</td>\n",
       "      <td>...</td>\n",
       "      <td>...</td>\n",
       "      <td>...</td>\n",
       "    </tr>\n",
       "    <tr>\n",
       "      <th>23995</th>\n",
       "      <td>23995</td>\n",
       "      <td>garbo s introduction sound clarence brown s an...</td>\n",
       "      <td>1</td>\n",
       "      <td>1</td>\n",
       "      <td>1</td>\n",
       "    </tr>\n",
       "    <tr>\n",
       "      <th>23996</th>\n",
       "      <td>23996</td>\n",
       "      <td>means movie bad perfect stranger was not funny...</td>\n",
       "      <td>0</td>\n",
       "      <td>0</td>\n",
       "      <td>0</td>\n",
       "    </tr>\n",
       "    <tr>\n",
       "      <th>23997</th>\n",
       "      <td>23997</td>\n",
       "      <td>happened basically solid plausible premise dec...</td>\n",
       "      <td>0</td>\n",
       "      <td>1</td>\n",
       "      <td>1</td>\n",
       "    </tr>\n",
       "    <tr>\n",
       "      <th>23998</th>\n",
       "      <td>23998</td>\n",
       "      <td>seen romantic comedies one easiest worst attem...</td>\n",
       "      <td>0</td>\n",
       "      <td>1</td>\n",
       "      <td>0</td>\n",
       "    </tr>\n",
       "    <tr>\n",
       "      <th>23999</th>\n",
       "      <td>23999</td>\n",
       "      <td>pretty funny saturday th a great work laughed ...</td>\n",
       "      <td>0</td>\n",
       "      <td>1</td>\n",
       "      <td>1</td>\n",
       "    </tr>\n",
       "  </tbody>\n",
       "</table>\n",
       "<p>24000 rows × 5 columns</p>\n",
       "</div>"
      ],
      "text/plain": [
       "          ID                                      SentimentText  Sentiment  \\\n",
       "0          0  first think another disney movie might good it...          1   \n",
       "1          1  put aside dr house repeat missed desperate hou...          0   \n",
       "2          2  big fan stephen king s work film made even gre...          1   \n",
       "3          3  watched horrid thing tv needless say one movie...          0   \n",
       "4          4  truly enjoyed film acting terrific plot jeff c...          1   \n",
       "...      ...                                                ...        ...   \n",
       "23995  23995  garbo s introduction sound clarence brown s an...          1   \n",
       "23996  23996  means movie bad perfect stranger was not funny...          0   \n",
       "23997  23997  happened basically solid plausible premise dec...          0   \n",
       "23998  23998  seen romantic comedies one easiest worst attem...          0   \n",
       "23999  23999  pretty funny saturday th a great work laughed ...          0   \n",
       "\n",
       "       text_blob_sentiment_0  text_blob_sentiment_0.1  \n",
       "0                          1                        1  \n",
       "1                          1                        0  \n",
       "2                          1                        1  \n",
       "3                          0                        0  \n",
       "4                          1                        0  \n",
       "...                      ...                      ...  \n",
       "23995                      1                        1  \n",
       "23996                      0                        0  \n",
       "23997                      1                        1  \n",
       "23998                      1                        0  \n",
       "23999                      1                        1  \n",
       "\n",
       "[24000 rows x 5 columns]"
      ]
     },
     "execution_count": 23,
     "metadata": {},
     "output_type": "execute_result"
    }
   ],
   "source": [
    "df_train"
   ]
  },
  {
   "cell_type": "code",
   "execution_count": 24,
   "metadata": {
    "ExecuteTime": {
     "end_time": "2021-09-22T18:33:10.989639Z",
     "start_time": "2021-09-22T18:33:10.951149Z"
    }
   },
   "outputs": [
    {
     "data": {
      "text/plain": [
       "0    12024\n",
       "1    11976\n",
       "Name: Sentiment, dtype: int64"
      ]
     },
     "execution_count": 24,
     "metadata": {},
     "output_type": "execute_result"
    }
   ],
   "source": [
    "df_train['Sentiment'].value_counts()"
   ]
  },
  {
   "cell_type": "code",
   "execution_count": 25,
   "metadata": {
    "ExecuteTime": {
     "end_time": "2021-09-22T18:33:11.481608Z",
     "start_time": "2021-09-22T18:33:11.443302Z"
    }
   },
   "outputs": [
    {
     "data": {
      "text/plain": [
       "0.7005"
      ]
     },
     "execution_count": 25,
     "metadata": {},
     "output_type": "execute_result"
    }
   ],
   "source": [
    "from sklearn.metrics import accuracy_score\n",
    "accuracy_score(df_train['Sentiment'], df_train['text_blob_sentiment_0'])"
   ]
  },
  {
   "cell_type": "code",
   "execution_count": 26,
   "metadata": {
    "ExecuteTime": {
     "end_time": "2021-09-22T18:33:11.929986Z",
     "start_time": "2021-09-22T18:33:11.907722Z"
    }
   },
   "outputs": [
    {
     "data": {
      "text/plain": [
       "0.7637083333333333"
      ]
     },
     "execution_count": 26,
     "metadata": {},
     "output_type": "execute_result"
    }
   ],
   "source": [
    "accuracy_score(df_train['Sentiment'], df_train['text_blob_sentiment_0.1'])"
   ]
  },
  {
   "cell_type": "markdown",
   "metadata": {},
   "source": [
    "## Sentiment Analysis using Transformers"
   ]
  },
  {
   "cell_type": "code",
   "execution_count": null,
   "metadata": {},
   "outputs": [],
   "source": [
    "# !pip install transformers"
   ]
  },
  {
   "cell_type": "code",
   "execution_count": 28,
   "metadata": {
    "ExecuteTime": {
     "end_time": "2021-09-22T18:38:37.873093Z",
     "start_time": "2021-09-22T18:38:37.863116Z"
    }
   },
   "outputs": [],
   "source": [
    "from transformers import pipeline"
   ]
  },
  {
   "cell_type": "code",
   "execution_count": 29,
   "metadata": {
    "ExecuteTime": {
     "end_time": "2021-09-22T18:41:12.738697Z",
     "start_time": "2021-09-22T18:41:12.716767Z"
    }
   },
   "outputs": [
    {
     "data": {
      "text/plain": [
       "'4.6.1'"
      ]
     },
     "execution_count": 29,
     "metadata": {},
     "output_type": "execute_result"
    }
   ],
   "source": [
    "import transformers\n",
    "transformers.__version__"
   ]
  },
  {
   "cell_type": "code",
   "execution_count": 10,
   "metadata": {
    "ExecuteTime": {
     "end_time": "2021-09-22T16:15:59.979329Z",
     "start_time": "2021-09-22T16:15:56.117127Z"
    }
   },
   "outputs": [],
   "source": [
    "nlp = pipeline('sentiment-analysis')"
   ]
  },
  {
   "cell_type": "code",
   "execution_count": 30,
   "metadata": {
    "ExecuteTime": {
     "end_time": "2021-09-22T18:43:02.923428Z",
     "start_time": "2021-09-22T18:43:02.274003Z"
    }
   },
   "outputs": [
    {
     "data": {
      "text/plain": [
       "[{'label': 'POSITIVE', 'score': 0.9997702836990356}]"
      ]
     },
     "execution_count": 30,
     "metadata": {},
     "output_type": "execute_result"
    }
   ],
   "source": [
    "nlp('This was an absolutely fantasctic movie.')"
   ]
  },
  {
   "cell_type": "code",
   "execution_count": 31,
   "metadata": {
    "ExecuteTime": {
     "end_time": "2021-09-22T18:44:50.982418Z",
     "start_time": "2021-09-22T18:44:50.955507Z"
    }
   },
   "outputs": [],
   "source": [
    "def get_hf_sentiment(x):\n",
    "    if len(x) > 2000:\n",
    "        _sentiment = nlp(x[:2000])[0]['label']\n",
    "    else:\n",
    "        _sentiment = nlp(x)[0]['label']\n",
    "    if _sentiment == 'POSITIVE':\n",
    "        return 1\n",
    "    else:\n",
    "        return 0"
   ]
  },
  {
   "cell_type": "code",
   "execution_count": 33,
   "metadata": {
    "ExecuteTime": {
     "end_time": "2021-09-22T20:10:07.806781Z",
     "start_time": "2021-09-22T18:44:58.425683Z"
    }
   },
   "outputs": [],
   "source": [
    "df_train['hf_sentiment'] = df_train['SentimentText'].apply(lambda x: get_hf_sentiment(x))"
   ]
  },
  {
   "cell_type": "code",
   "execution_count": 34,
   "metadata": {
    "ExecuteTime": {
     "end_time": "2021-09-22T20:10:08.136035Z",
     "start_time": "2021-09-22T20:10:08.091767Z"
    }
   },
   "outputs": [
    {
     "data": {
      "text/plain": [
       "0.8100416666666667"
      ]
     },
     "execution_count": 34,
     "metadata": {},
     "output_type": "execute_result"
    }
   ],
   "source": [
    "accuracy_score(df_train['Sentiment'], df_train['hf_sentiment'])"
   ]
  },
  {
   "cell_type": "code",
   "execution_count": null,
   "metadata": {},
   "outputs": [],
   "source": []
  }
 ],
 "metadata": {
  "kernelspec": {
   "display_name": "Python 3",
   "language": "python",
   "name": "python3"
  },
  "language_info": {
   "codemirror_mode": {
    "name": "ipython",
    "version": 3
   },
   "file_extension": ".py",
   "mimetype": "text/x-python",
   "name": "python",
   "nbconvert_exporter": "python",
   "pygments_lexer": "ipython3",
   "version": "3.8.5"
  },
  "toc": {
   "base_numbering": 1,
   "nav_menu": {},
   "number_sections": true,
   "sideBar": true,
   "skip_h1_title": false,
   "title_cell": "Table of Contents",
   "title_sidebar": "Contents",
   "toc_cell": false,
   "toc_position": {},
   "toc_section_display": true,
   "toc_window_display": false
  },
  "varInspector": {
   "cols": {
    "lenName": 16,
    "lenType": 16,
    "lenVar": 40
   },
   "kernels_config": {
    "python": {
     "delete_cmd_postfix": "",
     "delete_cmd_prefix": "del ",
     "library": "var_list.py",
     "varRefreshCmd": "print(var_dic_list())"
    },
    "r": {
     "delete_cmd_postfix": ") ",
     "delete_cmd_prefix": "rm(",
     "library": "var_list.r",
     "varRefreshCmd": "cat(var_dic_list()) "
    }
   },
   "types_to_exclude": [
    "module",
    "function",
    "builtin_function_or_method",
    "instance",
    "_Feature"
   ],
   "window_display": false
  }
 },
 "nbformat": 4,
 "nbformat_minor": 4
}
