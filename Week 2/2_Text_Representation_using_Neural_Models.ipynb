{
 "cells": [
  {
   "cell_type": "markdown",
   "metadata": {},
   "source": [
    "# Text Representation using Neural Models or Text Embeddings"
   ]
  },
  {
   "cell_type": "markdown",
   "metadata": {},
   "source": [
    "## Common Imports"
   ]
  },
  {
   "cell_type": "code",
   "execution_count": 5,
   "metadata": {
    "ExecuteTime": {
     "end_time": "2021-09-22T17:37:52.087471Z",
     "start_time": "2021-09-22T17:37:45.584415Z"
    }
   },
   "outputs": [],
   "source": [
    "import pandas as pd\n",
    "import re\n",
    "import numpy as np\n",
    "\n",
    "pd.set_option('display.max_colwidth', None)\n",
    "pd.set_option('display.max_columns', None)\n",
    "\n",
    "import nltk\n",
    "from nltk import sent_tokenize, word_tokenize\n",
    "STOPWORDS = nltk.corpus.stopwords.words('english')\n",
    "\n",
    "import matplotlib.pyplot as plt\n",
    "import seaborn as sns\n",
    "\n",
    "import warnings\n",
    "warnings.filterwarnings(\"ignore\")"
   ]
  },
  {
   "cell_type": "markdown",
   "metadata": {},
   "source": [
    "## Word2Vec Model using Gensim"
   ]
  },
  {
   "cell_type": "code",
   "execution_count": 6,
   "metadata": {
    "ExecuteTime": {
     "end_time": "2021-09-22T17:37:56.183344Z",
     "start_time": "2021-09-22T17:37:56.169654Z"
    }
   },
   "outputs": [],
   "source": [
    "import nltk\n",
    "from gensim.models import word2vec"
   ]
  },
  {
   "cell_type": "code",
   "execution_count": 7,
   "metadata": {
    "ExecuteTime": {
     "end_time": "2021-09-22T17:38:45.498471Z",
     "start_time": "2021-09-22T17:38:45.425607Z"
    }
   },
   "outputs": [
    {
     "name": "stdout",
     "output_type": "stream",
     "text": [
      "[['this', 'will', 'be', 'followed', 'by', 'more', 'of', 'the', 'same', 'with', 'the', 'mist', 'and', 'fog', 'clearing', 'to', 'give', 'a', 'day', 'of', 'unbroken', 'sunshine', 'everywhere', 'on', 'tuesday', 'and', 'temperatures', 'of', 'between', '22', 'and', '27', 'degrees', '.'], ['it', 'will', 'warmest', 'in', 'the', 'midlands', '.'], ['temperatures', 'could', 'reach', 'a', 'september', 'record', 'for', 'the', 'century', 'in', 'ireland', 'but', 'are', 'unlikely', 'to', 'surpass', 'the', '29.1', 'degrees', 'recorded', 'at', 'kildares', 'clongowes', 'wood', 'college', 'on', 'september', '1st', '1906.', 'tuesday', 'however', 'will', 'be', 'the', 'last', 'day', 'of', 'the', 'sunshine', 'with', 'rain', 'arriving', 'across', 'the', 'country', 'on', 'wednesday', 'morning', '.'], ['temperatures', 'will', 'remain', 'as', 'high', 'as', '24', 'degrees', 'with', 'the', 'warmth', 'punctuated', 'by', 'heavy', 'showers', '.']]\n"
     ]
    }
   ],
   "source": [
    "sample = '''This will be followed by more of the same with the mist and fog clearing to give a day of unbroken sunshine \n",
    "everywhere on Tuesday and temperatures of between 22 and 27 degrees. It will warmest in the midlands. Temperatures \n",
    "could reach a September record for the century in Ireland, but are unlikely to surpass the 29.1 degrees recorded \n",
    "at Kildare’s Clongowes Wood College on September 1st, 1906. Tuesday, however, will be the last day of the sunshine \n",
    "with rain arriving across the country on Wednesday morning. Temperatures will remain as high as 24 degrees with the \n",
    "warmth punctuated by heavy showers.'''\n",
    "\n",
    "cleaned_sample = re.sub(\"[^A-Za-z0-9\\s.]\", \"\" , sample.replace('\\n', '').lower())\n",
    "tokens_docs = [word_tokenize(doc) for doc in sent_tokenize(cleaned_sample)]\n",
    "print(tokens_docs) # FORMAT - [[tokens], [tokens], ...]    "
   ]
  },
  {
   "cell_type": "code",
   "execution_count": 8,
   "metadata": {
    "ExecuteTime": {
     "end_time": "2021-09-22T17:40:32.969192Z",
     "start_time": "2021-09-22T17:40:32.950723Z"
    }
   },
   "outputs": [
    {
     "data": {
      "text/plain": [
       "4"
      ]
     },
     "execution_count": 8,
     "metadata": {},
     "output_type": "execute_result"
    }
   ],
   "source": [
    "len(tokens_docs)"
   ]
  },
  {
   "cell_type": "code",
   "execution_count": 10,
   "metadata": {
    "ExecuteTime": {
     "end_time": "2021-09-22T17:44:49.592387Z",
     "start_time": "2021-09-22T17:44:49.492358Z"
    }
   },
   "outputs": [
    {
     "data": {
      "text/plain": [
       "<gensim.models.word2vec.Word2Vec at 0x1c547a5e580>"
      ]
     },
     "execution_count": 10,
     "metadata": {},
     "output_type": "execute_result"
    }
   ],
   "source": [
    "w2v_model = word2vec.Word2Vec(\n",
    "    tokens_docs,\n",
    "    vector_size=15,  # Dimensionality of the word vectors\n",
    "    window=20,\n",
    "    min_count=1,\n",
    "    sg=1  # 1 for skip-gram; otherwise CBOW\n",
    ")\n",
    "w2v_model"
   ]
  },
  {
   "cell_type": "markdown",
   "metadata": {},
   "source": [
    "### Vocab Length"
   ]
  },
  {
   "cell_type": "code",
   "execution_count": 11,
   "metadata": {
    "ExecuteTime": {
     "end_time": "2021-09-22T17:45:16.668349Z",
     "start_time": "2021-09-22T17:45:16.645007Z"
    }
   },
   "outputs": [
    {
     "data": {
      "text/plain": [
       "69"
      ]
     },
     "execution_count": 11,
     "metadata": {},
     "output_type": "execute_result"
    }
   ],
   "source": [
    "len(w2v_model.wv)"
   ]
  },
  {
   "cell_type": "markdown",
   "metadata": {},
   "source": [
    "Recall vocab length from the traditional text representation techniques."
   ]
  },
  {
   "cell_type": "code",
   "execution_count": 14,
   "metadata": {
    "ExecuteTime": {
     "end_time": "2021-09-22T17:46:56.117110Z",
     "start_time": "2021-09-22T17:46:56.063748Z"
    }
   },
   "outputs": [
    {
     "data": {
      "text/plain": [
       "19"
      ]
     },
     "execution_count": 14,
     "metadata": {},
     "output_type": "execute_result"
    }
   ],
   "source": [
    "w2v_model_min_2 = word2vec.Word2Vec(tokens_docs, \n",
    "                              vector_size=15, # Dimensionality of the word vectors\n",
    "                              window=20, \n",
    "                              min_count = 2, # min_count -> min frequency of the words\n",
    "                              sg=1 # 1 for skip-gram; otherwise CBOW\n",
    "                             )\n",
    "len(w2v_model_min_2.wv)"
   ]
  },
  {
   "cell_type": "markdown",
   "metadata": {},
   "source": [
    "Only the words occuring at least twice are taken in the vocab.\n",
    "\n",
    "**Compare the vocabulary list below:**"
   ]
  },
  {
   "cell_type": "code",
   "execution_count": 15,
   "metadata": {
    "ExecuteTime": {
     "end_time": "2021-09-22T17:47:08.019704Z",
     "start_time": "2021-09-22T17:47:08.000276Z"
    }
   },
   "outputs": [
    {
     "data": {
      "text/plain": [
       "dict_keys(['the', '.', 'of', 'will', 'temperatures', 'degrees', 'and', 'with', 'on', 'as', 'tuesday', 'by', 'september', 'to', 'a', 'day', 'sunshine', 'be', 'in', 'warmest', 'it', '27', '22', 'between', 'showers', 'everywhere', 'unbroken', 'midlands', 'clearing', 'fog', 'mist', 'same', 'more', 'followed', 'give', 'reach', 'could', '1st', 'punctuated', 'warmth', '24', 'high', 'remain', 'morning', 'wednesday', 'country', 'across', 'arriving', 'rain', 'last', 'however', '1906.', 'college', 'heavy', 'wood', 'clongowes', 'kildares', 'at', 'recorded', '29.1', 'surpass', 'unlikely', 'are', 'but', 'ireland', 'century', 'for', 'record', 'this'])"
      ]
     },
     "execution_count": 15,
     "metadata": {},
     "output_type": "execute_result"
    }
   ],
   "source": [
    "w2v_model.wv.key_to_index.keys()"
   ]
  },
  {
   "cell_type": "code",
   "execution_count": 16,
   "metadata": {
    "ExecuteTime": {
     "end_time": "2021-09-22T17:47:45.533550Z",
     "start_time": "2021-09-22T17:47:45.512903Z"
    }
   },
   "outputs": [
    {
     "data": {
      "text/plain": [
       "dict_keys(['the', 'will', '.', 'of', 'and', 'degrees', 'temperatures', 'on', 'with', 'be', 'by', 'as', 'to', 'a', 'september', 'sunshine', 'tuesday', 'in', 'day'])"
      ]
     },
     "execution_count": 16,
     "metadata": {},
     "output_type": "execute_result"
    }
   ],
   "source": [
    "w2v_model_min_2.wv.key_to_index.keys()"
   ]
  },
  {
   "cell_type": "markdown",
   "metadata": {},
   "source": [
    "### Access individual word vectors"
   ]
  },
  {
   "cell_type": "code",
   "execution_count": 17,
   "metadata": {
    "ExecuteTime": {
     "end_time": "2021-09-22T17:49:04.010998Z",
     "start_time": "2021-09-22T17:49:03.986449Z"
    }
   },
   "outputs": [
    {
     "data": {
      "text/plain": [
       "3"
      ]
     },
     "execution_count": 17,
     "metadata": {},
     "output_type": "execute_result"
    }
   ],
   "source": [
    "w2v_model.wv.get_vecattr('temperatures', 'count')"
   ]
  },
  {
   "cell_type": "code",
   "execution_count": 18,
   "metadata": {
    "ExecuteTime": {
     "end_time": "2021-09-22T17:49:13.758981Z",
     "start_time": "2021-09-22T17:49:13.725811Z"
    }
   },
   "outputs": [
    {
     "data": {
      "text/plain": [
       "array([-0.0147046 ,  0.00228739, -0.0238871 , -0.05104966, -0.01161999,\n",
       "        0.01646438, -0.00502478,  0.04013832, -0.01883712,  0.01292312,\n",
       "        0.03867809,  0.05811823, -0.00908627, -0.06368177,  0.02897147],\n",
       "      dtype=float32)"
      ]
     },
     "execution_count": 18,
     "metadata": {},
     "output_type": "execute_result"
    }
   ],
   "source": [
    "w2v_model.wv.get_vector('temperatures')"
   ]
  },
  {
   "cell_type": "code",
   "execution_count": 19,
   "metadata": {
    "ExecuteTime": {
     "end_time": "2021-09-22T17:49:17.372247Z",
     "start_time": "2021-09-22T17:49:17.346510Z"
    }
   },
   "outputs": [
    {
     "data": {
      "text/plain": [
       "(15,)"
      ]
     },
     "execution_count": 19,
     "metadata": {},
     "output_type": "execute_result"
    }
   ],
   "source": [
    "w2v_model.wv.get_vector('temperatures').shape"
   ]
  },
  {
   "cell_type": "markdown",
   "metadata": {},
   "source": [
    "Recall that we set the dimensionality of the word vectors to 15."
   ]
  },
  {
   "cell_type": "code",
   "execution_count": 20,
   "metadata": {
    "ExecuteTime": {
     "end_time": "2021-09-22T17:49:43.141630Z",
     "start_time": "2021-09-22T17:49:43.122740Z"
    }
   },
   "outputs": [
    {
     "data": {
      "text/plain": [
       "9"
      ]
     },
     "execution_count": 20,
     "metadata": {},
     "output_type": "execute_result"
    }
   ],
   "source": [
    "w2v_model.wv.get_vecattr('the', 'count')"
   ]
  },
  {
   "cell_type": "code",
   "execution_count": 21,
   "metadata": {
    "ExecuteTime": {
     "end_time": "2021-09-22T17:49:44.598413Z",
     "start_time": "2021-09-22T17:49:44.579364Z"
    }
   },
   "outputs": [
    {
     "data": {
      "text/plain": [
       "array([-0.01140261,  0.00190468,  0.04043645,  0.06003004, -0.06516874,\n",
       "       -0.04895813,  0.04444015,  0.06538092, -0.03482677, -0.02967181,\n",
       "        0.0532735 , -0.00548372, -0.0289843 ,  0.03815921, -0.03182162],\n",
       "      dtype=float32)"
      ]
     },
     "execution_count": 21,
     "metadata": {},
     "output_type": "execute_result"
    }
   ],
   "source": [
    "w2v_model.wv.get_vector('the')"
   ]
  },
  {
   "cell_type": "markdown",
   "metadata": {},
   "source": [
    "### Access the \"word-vectored\" data"
   ]
  },
  {
   "cell_type": "code",
   "execution_count": 25,
   "metadata": {
    "ExecuteTime": {
     "end_time": "2021-09-22T17:55:20.211724Z",
     "start_time": "2021-09-22T17:55:20.189364Z"
    }
   },
   "outputs": [
    {
     "data": {
      "text/plain": [
       "array([[-1.1402611e-02,  1.9046798e-03,  4.0436450e-02, ...,\n",
       "        -2.8984297e-02,  3.8159210e-02, -3.1821616e-02],\n",
       "       [-1.2400398e-02,  1.9226646e-02,  6.9411662e-03, ...,\n",
       "         3.8531020e-02, -5.0307196e-02, -2.6381129e-02],\n",
       "       [-5.4147925e-02, -5.7135280e-03,  6.7539975e-02, ...,\n",
       "        -5.7643931e-02, -3.1993464e-02, -5.6539397e-05],\n",
       "       ...,\n",
       "       [-6.7239940e-02,  5.8218200e-02,  3.3021316e-02, ...,\n",
       "         5.4190364e-02, -6.7756347e-02, -5.3310331e-02],\n",
       "       [-4.4269148e-02, -2.6689705e-02,  3.3261441e-02, ...,\n",
       "        -1.8792026e-02,  1.8994156e-02, -5.5041585e-02],\n",
       "       [-1.9949375e-02, -1.6725747e-02,  4.9254879e-02, ...,\n",
       "         6.1450917e-02,  5.1041387e-02,  4.2342711e-02]], dtype=float32)"
      ]
     },
     "execution_count": 25,
     "metadata": {},
     "output_type": "execute_result"
    }
   ],
   "source": [
    "vocab = w2v_model.wv.key_to_index.keys()\n",
    "w2v_model.wv[vocab]"
   ]
  },
  {
   "cell_type": "code",
   "execution_count": 26,
   "metadata": {
    "ExecuteTime": {
     "end_time": "2021-09-22T17:55:36.959878Z",
     "start_time": "2021-09-22T17:55:36.938683Z"
    }
   },
   "outputs": [
    {
     "data": {
      "text/plain": [
       "(69, 15)"
      ]
     },
     "execution_count": 26,
     "metadata": {},
     "output_type": "execute_result"
    }
   ],
   "source": [
    "w2v_model.wv[vocab].shape # vocab x dimension of wv"
   ]
  },
  {
   "cell_type": "markdown",
   "metadata": {},
   "source": [
    "### Most Similar Terms"
   ]
  },
  {
   "cell_type": "code",
   "execution_count": 33,
   "metadata": {
    "ExecuteTime": {
     "end_time": "2021-09-22T18:03:43.975753Z",
     "start_time": "2021-09-22T18:03:43.956177Z"
    }
   },
   "outputs": [
    {
     "data": {
      "text/plain": [
       "[('september', 0.6265420317649841),\n",
       " ('country', 0.6069667935371399),\n",
       " ('mist', 0.5587335824966431),\n",
       " ('between', 0.5156576633453369),\n",
       " ('ireland', 0.4646913409233093),\n",
       " ('as', 0.45744678378105164),\n",
       " ('remain', 0.4333852231502533),\n",
       " ('followed', 0.4264555275440216),\n",
       " ('wood', 0.374166339635849),\n",
       " ('reach', 0.37385469675064087)]"
      ]
     },
     "execution_count": 33,
     "metadata": {},
     "output_type": "execute_result"
    }
   ],
   "source": [
    "w2v_model.wv.most_similar('day', topn=10)"
   ]
  },
  {
   "cell_type": "code",
   "execution_count": 28,
   "metadata": {
    "ExecuteTime": {
     "end_time": "2021-09-22T17:57:29.009654Z",
     "start_time": "2021-09-22T17:57:28.993949Z"
    }
   },
   "outputs": [
    {
     "data": {
      "text/plain": [
       "[('day', 0.6069667339324951),\n",
       " ('ireland', 0.5782530903816223),\n",
       " ('of', 0.5406787991523743)]"
      ]
     },
     "execution_count": 28,
     "metadata": {},
     "output_type": "execute_result"
    }
   ],
   "source": [
    "w2v_model.wv.most_similar('country', topn=3)"
   ]
  },
  {
   "cell_type": "code",
   "execution_count": 30,
   "metadata": {
    "ExecuteTime": {
     "end_time": "2021-09-22T18:00:43.650818Z",
     "start_time": "2021-09-22T18:00:43.631082Z"
    }
   },
   "outputs": [
    {
     "data": {
      "text/plain": [
       "'day'"
      ]
     },
     "execution_count": 30,
     "metadata": {},
     "output_type": "execute_result"
    }
   ],
   "source": [
    "# Given a list of keys which is a subset of the vocab, which of the keys is most similar to the given key.\n",
    "# syntax w2v_model.wv.most_similar_to_given(given_key, subset of the vocab)\n",
    "\n",
    "w2v_model.wv.most_similar_to_given('country', ['september', 'ireland', 'day'])"
   ]
  },
  {
   "cell_type": "code",
   "execution_count": 31,
   "metadata": {
    "ExecuteTime": {
     "end_time": "2021-09-22T18:02:50.398924Z",
     "start_time": "2021-09-22T18:02:50.380238Z"
    }
   },
   "outputs": [
    {
     "data": {
      "text/plain": [
       "'ireland'"
      ]
     },
     "execution_count": 31,
     "metadata": {},
     "output_type": "execute_result"
    }
   ],
   "source": [
    "w2v_model.wv.most_similar_to_given('country', ['september', 'ireland', 'of'])"
   ]
  },
  {
   "cell_type": "code",
   "execution_count": 32,
   "metadata": {
    "ExecuteTime": {
     "end_time": "2021-09-22T18:03:25.697204Z",
     "start_time": "2021-09-22T18:03:25.683182Z"
    }
   },
   "outputs": [
    {
     "data": {
      "text/plain": [
       "'midlands'"
      ]
     },
     "execution_count": 32,
     "metadata": {},
     "output_type": "execute_result"
    }
   ],
   "source": [
    "w2v_model.wv.most_similar_to_given('country', ['midlands', 'college', 'unlikely'])"
   ]
  },
  {
   "cell_type": "markdown",
   "metadata": {},
   "source": [
    "### Visualizing a Word2Vec model"
   ]
  },
  {
   "cell_type": "markdown",
   "metadata": {},
   "source": [
    "**Using PCA**"
   ]
  },
  {
   "cell_type": "code",
   "execution_count": 34,
   "metadata": {
    "ExecuteTime": {
     "end_time": "2021-09-22T18:04:15.827388Z",
     "start_time": "2021-09-22T18:04:15.735215Z"
    }
   },
   "outputs": [],
   "source": [
    "from sklearn.decomposition import PCA"
   ]
  },
  {
   "cell_type": "code",
   "execution_count": 35,
   "metadata": {
    "ExecuteTime": {
     "end_time": "2021-09-22T18:05:05.975634Z",
     "start_time": "2021-09-22T18:05:05.949344Z"
    }
   },
   "outputs": [],
   "source": [
    "def plot_similarity_PCA(model, word_vector):\n",
    "    pca = PCA(n_components=2)\n",
    "    result = pca.fit_transform(word_vector)\n",
    "    print(result.shape)\n",
    "    plt.scatter(\n",
    "        result[:, 0], # column (dimesion) 1\n",
    "        result[:, 1], # column (dimension) 2\n",
    "        color='b'\n",
    "    )\n",
    "    # annotation or printing words in the plot\n",
    "    for i, word in enumerate(vocab):\n",
    "        plt.annotate(word, xy=(result[i, 0], result[i, 1]))\n",
    "    plt.show()"
   ]
  },
  {
   "cell_type": "code",
   "execution_count": 36,
   "metadata": {
    "ExecuteTime": {
     "end_time": "2021-09-22T18:05:22.750602Z",
     "start_time": "2021-09-22T18:05:21.156991Z"
    }
   },
   "outputs": [
    {
     "name": "stdout",
     "output_type": "stream",
     "text": [
      "(69, 2)\n"
     ]
    },
    {
     "data": {
      "image/png": "[encoded data removed]",
      "text/plain": [
       "<Figure size 720x720 with 1 Axes>"
      ]
     },
     "metadata": {
      "needs_background": "light"
     },
     "output_type": "display_data"
    }
   ],
   "source": [
    "plt.figure(figsize=[10, 10])\n",
    "plot_similarity_PCA(w2v_model, w2v_model.wv[vocab])"
   ]
  },
  {
   "cell_type": "markdown",
   "metadata": {},
   "source": [
    "**Using T-SNE**"
   ]
  },
  {
   "cell_type": "code",
   "execution_count": 37,
   "metadata": {
    "ExecuteTime": {
     "end_time": "2021-09-22T18:06:34.136187Z",
     "start_time": "2021-09-22T18:06:33.900699Z"
    }
   },
   "outputs": [],
   "source": [
    "# visualize embeddings\n",
    "from sklearn.manifold import TSNE"
   ]
  },
  {
   "cell_type": "code",
   "execution_count": 42,
   "metadata": {
    "ExecuteTime": {
     "end_time": "2021-09-22T18:09:30.219356Z",
     "start_time": "2021-09-22T18:09:30.195632Z"
    }
   },
   "outputs": [],
   "source": [
    "def plot_similarity_TSNE(model, word_vector):\n",
    "    tsne = TSNE(n_components=2)\n",
    "    result = tsne.fit_transform(word_vector)\n",
    "    print(result.shape)\n",
    "    plt.scatter(\n",
    "        result[:, 0],\n",
    "        result[:, 1],\n",
    "        color='r'\n",
    "    )\n",
    "    for i, word in enumerate(vocab):\n",
    "        plt.annotate(word, xy=(result[i, 0], result[i, 1]))\n",
    "    plt.show()"
   ]
  },
  {
   "cell_type": "code",
   "execution_count": 41,
   "metadata": {
    "ExecuteTime": {
     "end_time": "2021-09-22T18:09:30.157396Z",
     "start_time": "2021-09-22T18:09:28.335334Z"
    }
   },
   "outputs": [
    {
     "name": "stdout",
     "output_type": "stream",
     "text": [
      "(69, 2)\n"
     ]
    },
    {
     "data": {
      "image/png": "[encoded data removed]",
      "text/plain": [
       "<Figure size 720x720 with 1 Axes>"
      ]
     },
     "metadata": {
      "needs_background": "light"
     },
     "output_type": "display_data"
    }
   ],
   "source": [
    "plt.figure(figsize=[10, 10])\n",
    "plot_similarity_TSNE(w2v_model, w2v_model.wv[vocab])"
   ]
  },
  {
   "cell_type": "markdown",
   "metadata": {},
   "source": [
    "## GloVe \n",
    "\n",
    "Stanford Project Link - https://nlp.stanford.edu/projects/glove/"
   ]
  },
  {
   "cell_type": "markdown",
   "metadata": {},
   "source": [
    "### GloVe file vs Word2vec file"
   ]
  },
  {
   "cell_type": "code",
   "execution_count": 43,
   "metadata": {
    "ExecuteTime": {
     "end_time": "2021-09-22T18:10:57.499266Z",
     "start_time": "2021-09-22T18:10:57.477448Z"
    }
   },
   "outputs": [
    {
     "data": {
      "text/plain": [
       "(12, 4)"
      ]
     },
     "execution_count": 43,
     "metadata": {},
     "output_type": "execute_result"
    }
   ],
   "source": [
    "from gensim.models import KeyedVectors\n",
    "from gensim.scripts.glove2word2vec import glove2word2vec\n",
    "\n",
    "glove_file = 'test_glove.txt'\n",
    "w2v_file = \"test_word2vec.txt\"\n",
    "glove2word2vec(glove_file, w2v_file)"
   ]
  },
  {
   "cell_type": "code",
   "execution_count": 44,
   "metadata": {
    "ExecuteTime": {
     "end_time": "2021-09-22T18:13:07.426236Z",
     "start_time": "2021-09-22T18:13:07.409891Z"
    }
   },
   "outputs": [],
   "source": [
    "model = KeyedVectors.load_word2vec_format(w2v_file)"
   ]
  },
  {
   "cell_type": "markdown",
   "metadata": {},
   "source": [
    "### Loading GloVe"
   ]
  },
  {
   "cell_type": "code",
   "execution_count": 48,
   "metadata": {
    "ExecuteTime": {
     "end_time": "2021-09-22T18:19:33.967525Z",
     "start_time": "2021-09-22T18:13:56.213059Z"
    }
   },
   "outputs": [
    {
     "data": {
      "text/plain": [
       "(400000, 300)"
      ]
     },
     "execution_count": 48,
     "metadata": {},
     "output_type": "execute_result"
    }
   ],
   "source": [
    "from gensim.test.utils import get_tmpfile\n",
    "\n",
    "glove_file = r'C:\\Users\\nroy0\\Documents\\Resources\\glove.6B\\glove.6B.300d.txt'\n",
    "w2v_file = get_tmpfile(\"glove_w2v.txt\")\n",
    "glove2word2vec(glove_file, w2v_file)"
   ]
  },
  {
   "cell_type": "code",
   "execution_count": 55,
   "metadata": {
    "ExecuteTime": {
     "end_time": "2021-09-22T18:33:25.214141Z",
     "start_time": "2021-09-22T18:25:55.527108Z"
    }
   },
   "outputs": [],
   "source": [
    "w2v_model = KeyedVectors.load_word2vec_format(w2v_file)"
   ]
  },
  {
   "cell_type": "code",
   "execution_count": 50,
   "metadata": {
    "ExecuteTime": {
     "end_time": "2021-09-22T18:25:50.666579Z",
     "start_time": "2021-09-22T18:25:50.023421Z"
    }
   },
   "outputs": [
    {
     "data": {
      "text/plain": [
       "[('days', 0.7640018463134766),\n",
       " ('week', 0.7369102835655212),\n",
       " ('morning', 0.6845975518226624),\n",
       " ('month', 0.6697549819946289),\n",
       " ('weekend', 0.6642025113105774),\n",
       " ('afternoon', 0.6569607853889465),\n",
       " ('next', 0.655013382434845),\n",
       " ('friday', 0.6493477821350098),\n",
       " ('last', 0.6458969116210938),\n",
       " ('night', 0.638271152973175)]"
      ]
     },
     "execution_count": 50,
     "metadata": {},
     "output_type": "execute_result"
    }
   ],
   "source": [
    "w2v_model.most_similar('day', topn=10)"
   ]
  },
  {
   "cell_type": "code",
   "execution_count": 51,
   "metadata": {
    "ExecuteTime": {
     "end_time": "2021-09-22T18:25:50.743721Z",
     "start_time": "2021-09-22T18:25:50.732043Z"
    }
   },
   "outputs": [],
   "source": [
    "vocab = w2v_model.key_to_index.keys()"
   ]
  },
  {
   "cell_type": "code",
   "execution_count": 52,
   "metadata": {
    "ExecuteTime": {
     "end_time": "2021-09-22T18:25:54.202612Z",
     "start_time": "2021-09-22T18:25:51.090506Z"
    }
   },
   "outputs": [
    {
     "data": {
      "text/plain": [
       "array([[ 0.04656  ,  0.21318  , -0.0074364, ...,  0.0090611, -0.20989  ,\n",
       "         0.053913 ],\n",
       "       [-0.25539  , -0.25723  ,  0.13169  , ..., -0.2329   , -0.12226  ,\n",
       "         0.35499  ],\n",
       "       [-0.12559  ,  0.01363  ,  0.10306  , ..., -0.34224  , -0.022394 ,\n",
       "         0.13684  ],\n",
       "       ...,\n",
       "       [ 0.075713 , -0.040502 ,  0.18345  , ...,  0.21838  ,  0.30967  ,\n",
       "         0.43761  ],\n",
       "       [ 0.81451  , -0.36221  ,  0.31186  , ...,  0.075486 ,  0.28408  ,\n",
       "        -0.17559  ],\n",
       "       [ 0.429191 , -0.296897 ,  0.15011  , ...,  0.28975  ,  0.32618  ,\n",
       "        -0.0590532]], dtype=float32)"
      ]
     },
     "execution_count": 52,
     "metadata": {},
     "output_type": "execute_result"
    }
   ],
   "source": [
    "glove_embedding_matrix = w2v_model[vocab]\n",
    "glove_embedding_matrix"
   ]
  },
  {
   "cell_type": "code",
   "execution_count": 53,
   "metadata": {
    "ExecuteTime": {
     "end_time": "2021-09-22T18:25:54.669279Z",
     "start_time": "2021-09-22T18:25:54.659084Z"
    }
   },
   "outputs": [
    {
     "data": {
      "text/plain": [
       "(400000, 300)"
      ]
     },
     "execution_count": 53,
     "metadata": {},
     "output_type": "execute_result"
    }
   ],
   "source": [
    "glove_embedding_matrix.shape # recall we used 300d"
   ]
  },
  {
   "cell_type": "code",
   "execution_count": 54,
   "metadata": {
    "ExecuteTime": {
     "end_time": "2021-09-22T18:25:55.101417Z",
     "start_time": "2021-09-22T18:25:55.079710Z"
    }
   },
   "outputs": [
    {
     "data": {
      "text/plain": [
       "array([-2.4501e-01, -1.2491e-01, -2.5360e-01,  3.3819e-01, -1.0528e-01,\n",
       "        1.7239e-01, -2.4134e-01,  1.4848e-01, -2.0182e-02, -1.3848e+00,\n",
       "        3.1645e-01,  3.4334e-02, -1.8420e-01,  1.4910e-01, -8.9714e-02,\n",
       "       -9.4922e-02,  2.3930e-01, -4.5581e-02, -4.2978e-01, -1.3370e-01,\n",
       "       -1.0194e-01, -2.7081e-01,  1.4754e-02, -5.2341e-02,  4.1858e-01,\n",
       "       -4.0219e-01,  1.8050e-01, -7.8451e-02,  2.9607e-02, -1.7606e-01,\n",
       "        2.2696e-01,  2.0873e-01, -1.3787e-01,  3.7559e-01, -1.4496e+00,\n",
       "        5.0912e-02,  1.1853e-01,  2.3446e-02, -3.9657e-01, -2.2475e-02,\n",
       "       -2.0252e-01,  6.5408e-02,  7.9219e-02,  7.4154e-02,  1.3425e-01,\n",
       "       -1.0429e-01,  3.4589e-01,  2.1272e-01, -2.8454e-01, -1.5088e-01,\n",
       "       -2.0410e-01, -3.1680e-01, -1.0629e-01,  1.8745e-01, -1.4599e-01,\n",
       "        5.9753e-01, -1.3556e-02,  4.6395e-01,  3.0307e-01, -1.1303e-01,\n",
       "        2.2118e-01, -3.6687e-01,  3.0545e-01, -1.9835e-01, -2.2105e-01,\n",
       "       -5.0803e-01, -4.5341e-02,  6.0273e-03, -3.1564e-01, -7.9251e-02,\n",
       "       -2.5863e-01,  5.7227e-02, -1.4742e-01, -1.5568e-01,  9.3014e-02,\n",
       "       -2.8160e-01,  4.7521e-02,  2.9746e-01, -2.5794e-01, -2.3693e-01,\n",
       "       -1.1127e-01, -7.6524e-02,  1.4787e-01,  7.6944e-01, -1.4325e-01,\n",
       "        9.6863e-02, -2.9036e-01,  1.3359e-01,  3.9336e-01,  4.6127e-01,\n",
       "       -8.0197e-02, -2.5843e-01, -3.5352e-01, -2.3337e-01, -3.4055e-01,\n",
       "        3.7516e-02, -2.1631e-01,  3.6560e-02, -3.7644e-01,  6.4905e-03,\n",
       "        1.5856e-01,  2.5502e-01, -4.9407e-02, -1.8215e-01,  2.2928e-01,\n",
       "       -2.6326e-01,  6.0090e-01,  9.7174e-02, -3.5123e-01,  4.0334e-02,\n",
       "       -3.1842e-01,  2.5682e-01, -3.4060e-01,  2.1926e-01,  1.9693e-01,\n",
       "        4.4727e-02,  2.7964e-01,  3.4217e-02,  2.2449e-01, -4.3456e-01,\n",
       "       -3.9541e-01, -3.0436e-01, -5.6902e-01,  2.6914e-01,  2.5996e-01,\n",
       "        1.4427e-01,  5.8777e-02, -1.6984e-01,  3.0450e-01,  3.3707e-01,\n",
       "       -3.5912e-02,  4.6449e-01,  4.0021e-02, -3.9843e-01, -3.9110e-02,\n",
       "       -7.5097e-02, -4.9389e-02,  6.5275e-02,  3.3761e-01,  8.1059e-02,\n",
       "        1.6749e-01,  2.1644e-02,  1.7084e-01, -9.4797e-02, -8.1890e-01,\n",
       "       -2.5721e-02,  2.7001e-01,  1.3222e-01,  6.1824e-02,  3.7524e-01,\n",
       "        5.1812e-01,  1.4935e-01,  1.4664e-02,  2.7139e-01,  6.3546e-01,\n",
       "       -2.2938e-01, -2.0434e-01, -1.9828e-01,  3.0237e-01, -3.5263e-02,\n",
       "       -2.9537e-02, -2.9560e-01, -9.1833e-02, -7.5234e-02, -1.8316e-01,\n",
       "        5.2938e-01,  2.7423e-01,  2.2305e-01,  4.1535e-02,  9.2442e-02,\n",
       "       -2.5414e-01,  1.5716e-01, -4.5811e-01,  1.2563e-01,  5.4765e-02,\n",
       "        6.2019e-03,  5.0822e-02, -2.0336e-02, -3.0080e-01,  8.2280e-01,\n",
       "        1.0914e-01,  6.7836e-01,  5.0778e-02, -1.0116e-01,  2.9866e-02,\n",
       "        6.4938e-01,  5.2901e-02, -5.5176e-02, -1.9621e-01,  5.0372e-02,\n",
       "       -1.1103e-01, -1.3513e-01, -1.4070e-01, -2.0776e-01, -1.2468e-01,\n",
       "       -3.7458e-02,  2.0330e-01, -1.9477e-01,  4.6595e-02, -3.1376e-01,\n",
       "        1.0199e+00, -1.2807e-01, -2.2477e-03,  5.3575e-02,  2.0671e-01,\n",
       "        3.1664e-01, -4.1841e-01, -1.8153e-02, -2.0048e-02, -1.7783e-01,\n",
       "       -3.3425e-01,  2.5476e-02,  9.4035e-03, -1.0760e-01, -2.9280e-01,\n",
       "       -7.7256e-02,  9.3974e-02,  1.3230e-01,  4.2243e-01,  1.4769e-01,\n",
       "        7.2965e-01,  2.6165e-01, -7.8298e-01,  6.2523e-01,  9.7776e-02,\n",
       "       -2.4584e-01,  2.9077e-01, -3.1219e-01,  4.0455e-02,  1.3890e-01,\n",
       "        3.2039e-01, -3.1082e-01,  6.6324e-02, -5.1774e-01,  7.4250e-01,\n",
       "        1.2129e-01,  1.2371e-01, -1.4056e-01,  2.5246e-01, -7.5063e-02,\n",
       "       -5.3886e-02, -1.4002e-01, -1.2009e-01,  1.7649e-01, -1.7915e-01,\n",
       "       -2.6160e-01,  1.5656e-01,  1.1970e-01,  2.5722e-01, -2.8692e-01,\n",
       "        1.8818e-01, -1.9131e-01,  1.8348e-01, -7.3757e-02,  4.5892e-02,\n",
       "        1.0134e-01,  2.9139e-01, -5.2174e-01,  1.2474e-01,  7.0981e-02,\n",
       "        1.0707e-01,  2.2787e-01,  4.1307e-01, -2.0297e-01,  3.8853e-02,\n",
       "        1.1475e-01, -4.0507e-02, -3.9236e-01,  5.4228e-01,  2.2580e-01,\n",
       "       -2.4978e-01,  8.6668e-02,  3.7089e-01,  1.5401e-01,  2.4346e-02,\n",
       "        9.1258e-02, -2.2976e+00, -2.4026e-01,  3.3116e-01,  3.0743e-01,\n",
       "       -4.3657e-01, -4.5926e-01,  2.4748e-01, -1.2095e-01, -8.3282e-02,\n",
       "        7.4816e-02, -6.2805e-02, -5.8349e-02, -3.8951e-01, -2.1843e-02,\n",
       "       -5.5235e-02, -2.1515e-01, -3.8225e-01,  1.5841e-01,  2.3086e-02,\n",
       "        2.1930e-01,  5.5693e-02, -4.1073e-01, -6.1926e-01,  3.9007e-03],\n",
       "      dtype=float32)"
      ]
     },
     "execution_count": 54,
     "metadata": {},
     "output_type": "execute_result"
    }
   ],
   "source": [
    "w2v_model.get_vector('day')"
   ]
  },
  {
   "cell_type": "code",
   "execution_count": null,
   "metadata": {
    "ExecuteTime": {
     "end_time": "2021-09-15T10:01:17.881111Z",
     "start_time": "2021-09-15T10:01:17.865486Z"
    }
   },
   "outputs": [],
   "source": [
    "list_sample_tokens = [each_token for each_seq in tokens_docs for each_token in each_seq if each_token not in STOPWORDS]\n",
    "unique_tokens = list(set(list_sample_tokens))\n",
    "unique_tokens"
   ]
  },
  {
   "cell_type": "code",
   "execution_count": null,
   "metadata": {
    "ExecuteTime": {
     "end_time": "2021-09-15T10:06:18.736462Z",
     "start_time": "2021-09-15T10:06:18.714537Z"
    }
   },
   "outputs": [],
   "source": [
    "# Create a numpy array of zeroes of shape of the vocab_size and the dimension you have chosen\n",
    "# In our case it is 300d\n",
    "\n",
    "sample_glove_embedding_matrix = np.zeros((len(unique_tokens), 300))\n",
    "sample_glove_embedding_matrix.shape"
   ]
  },
  {
   "cell_type": "code",
   "execution_count": null,
   "metadata": {
    "ExecuteTime": {
     "end_time": "2021-09-15T10:07:02.781738Z",
     "start_time": "2021-09-15T10:07:02.757821Z"
    }
   },
   "outputs": [],
   "source": [
    "for i, each_token in enumerate(unique_tokens):\n",
    "    try:\n",
    "        sample_glove_embedding_matrix[i] = w2v_model.get_vector(each_token)\n",
    "    except KeyError as e:\n",
    "        print(e)\n",
    "        print(\"In the matrix, the vector at position {} is zero.\".format(i))\n",
    "sample_glove_embedding_matrix"
   ]
  },
  {
   "cell_type": "code",
   "execution_count": null,
   "metadata": {
    "ExecuteTime": {
     "end_time": "2021-09-15T10:06:22.094499Z",
     "start_time": "2021-09-15T10:06:22.073523Z"
    }
   },
   "outputs": [],
   "source": [
    "sample_glove_embedding_matrix.shape"
   ]
  },
  {
   "cell_type": "code",
   "execution_count": null,
   "metadata": {
    "ExecuteTime": {
     "end_time": "2021-09-15T10:07:10.547410Z",
     "start_time": "2021-09-15T10:07:10.536446Z"
    }
   },
   "outputs": [],
   "source": [
    "sample_glove_embedding_matrix[17]"
   ]
  },
  {
   "cell_type": "code",
   "execution_count": null,
   "metadata": {},
   "outputs": [],
   "source": []
  }
 ],
 "metadata": {
  "kernelspec": {
   "display_name": "Python 3",
   "language": "python",
   "name": "python3"
  },
  "language_info": {
   "codemirror_mode": {
    "name": "ipython",
    "version": 3
   },
   "file_extension": ".py",
   "mimetype": "text/x-python",
   "name": "python",
   "nbconvert_exporter": "python",
   "pygments_lexer": "ipython3",
   "version": "3.8.5"
  },
  "toc": {
   "base_numbering": 1,
   "nav_menu": {},
   "number_sections": true,
   "sideBar": true,
   "skip_h1_title": false,
   "title_cell": "Table of Contents",
   "title_sidebar": "Contents",
   "toc_cell": false,
   "toc_position": {
    "height": "calc(100% - 180px)",
    "left": "10px",
    "top": "150px",
    "width": "309.792px"
   },
   "toc_section_display": true,
   "toc_window_display": true
  },
  "varInspector": {
   "cols": {
    "lenName": 16,
    "lenType": 16,
    "lenVar": 40
   },
   "kernels_config": {
    "python": {
     "delete_cmd_postfix": "",
     "delete_cmd_prefix": "del ",
     "library": "var_list.py",
     "varRefreshCmd": "print(var_dic_list())"
    },
    "r": {
     "delete_cmd_postfix": ") ",
     "delete_cmd_prefix": "rm(",
     "library": "var_list.r",
     "varRefreshCmd": "cat(var_dic_list()) "
    }
   },
   "types_to_exclude": [
    "module",
    "function",
    "builtin_function_or_method",
    "instance",
    "_Feature"
   ],
   "window_display": false
  }
 },
 "nbformat": 4,
 "nbformat_minor": 5
}
