{
 "cells": [
  {
   "cell_type": "markdown",
   "metadata": {},
   "source": [
    "# Topic Modelling\n",
    "\n",
    "Topic modeling is the process of automatically identifying topics present in a text corpus by uncovering patterns in word occurrences in those texts.\n",
    "\n",
    "## Latent Dirichlet Allocation (LDA)\n",
    "\n",
    "LDA is a Baesian(probabilistic) algorithm that considers that each document is a finite mixture of a set of topics and each topic is an infinite mixture of a set of topic probabilities (or words appearing in the texts).\n",
    "\n",
    "For example:\n",
    "\n",
    "Document1 = x% Topic1 + y% Topic2 + z% Topic 3\n",
    "\n",
    "Topic1 = a% Word1 + b% Word2 + c% Word3 + ...\n",
    "\n",
    "The number of topics, as said, is finite and is chosen by the programmer while the number of topic probabilities(or words per topic) is the property of the identified topics. As you go on increasing the word limit per topic AFTER training the algorithm, you will be able to see the allocated probabilities of words for a certain topic. As the probabilities of the words go lower and lower, the significance of the word with respect to that particular topic reduces. The topic with the highest probability is called the **dominant topic** for a particular document.\n",
    "\n",
    "**How to determine the optimum number of topics**\n",
    "\n",
    "Using topic cohenerence value, we can determine if the a set of words in the topic support the overall topic cluster or not.\n",
    "\n",
    "Ususally, with increasing number of topics in a set of documents, result in increasing coherence values. The number topics for which the curve is at the highest and then flattens out (similar to elbow method of finding optimum K for K-Means Clustering) should ideally be the number of topics."
   ]
  },
  {
   "cell_type": "markdown",
   "metadata": {},
   "source": [
    "# Implementation"
   ]
  },
  {
   "cell_type": "markdown",
   "metadata": {},
   "source": [
    "## Imports"
   ]
  },
  {
   "cell_type": "code",
   "execution_count": 1,
   "metadata": {
    "ExecuteTime": {
     "end_time": "2021-09-29T18:26:33.409026Z",
     "start_time": "2021-09-29T18:26:25.345815Z"
    }
   },
   "outputs": [],
   "source": [
    "import re\n",
    "import numpy as np\n",
    "import pandas as pd\n",
    "\n",
    "import gensim\n",
    "import gensim.corpora as corpora\n",
    "from gensim.utils import simple_preprocess\n",
    "from gensim.models import CoherenceModel\n",
    "\n",
    "import warnings\n",
    "warnings.filterwarnings(\"ignore\")\n",
    "\n",
    "from nltk.corpus import stopwords\n",
    "STOPWORDS = stopwords.words('english')\n",
    "\n",
    "import contractions\n",
    "from nltk import word_tokenize\n",
    "from nltk.stem import WordNetLemmatizer\n",
    "wnl = WordNetLemmatizer()\n",
    "\n",
    "import matplotlib.pyplot as plt\n",
    "import seaborn as sns"
   ]
  },
  {
   "cell_type": "code",
   "execution_count": 2,
   "metadata": {
    "ExecuteTime": {
     "end_time": "2021-09-29T18:26:45.665816Z",
     "start_time": "2021-09-29T18:26:45.097022Z"
    }
   },
   "outputs": [
    {
     "data": {
      "text/html": [
       "<div>\n",
       "<style scoped>\n",
       "    .dataframe tbody tr th:only-of-type {\n",
       "        vertical-align: middle;\n",
       "    }\n",
       "\n",
       "    .dataframe tbody tr th {\n",
       "        vertical-align: top;\n",
       "    }\n",
       "\n",
       "    .dataframe thead th {\n",
       "        text-align: right;\n",
       "    }\n",
       "</style>\n",
       "<table border=\"1\" class=\"dataframe\">\n",
       "  <thead>\n",
       "    <tr style=\"text-align: right;\">\n",
       "      <th></th>\n",
       "      <th>Unnamed: 0</th>\n",
       "      <th>source_id</th>\n",
       "      <th>source_name</th>\n",
       "      <th>author</th>\n",
       "      <th>title</th>\n",
       "      <th>description</th>\n",
       "      <th>url</th>\n",
       "      <th>url_to_image</th>\n",
       "      <th>published_at</th>\n",
       "      <th>content</th>\n",
       "      <th>top_article</th>\n",
       "      <th>engagement_reaction_count</th>\n",
       "      <th>engagement_comment_count</th>\n",
       "      <th>engagement_share_count</th>\n",
       "      <th>engagement_comment_plugin_count</th>\n",
       "    </tr>\n",
       "  </thead>\n",
       "  <tbody>\n",
       "    <tr>\n",
       "      <th>0</th>\n",
       "      <td>0</td>\n",
       "      <td>reuters</td>\n",
       "      <td>Reuters</td>\n",
       "      <td>Reuters Editorial</td>\n",
       "      <td>NTSB says Autopilot engaged in 2018 California...</td>\n",
       "      <td>The National Transportation Safety Board said ...</td>\n",
       "      <td>https://www.reuters.com/article/us-tesla-crash...</td>\n",
       "      <td>https://s4.reutersmedia.net/resources/r/?m=02&amp;...</td>\n",
       "      <td>2019-09-03T16:22:20Z</td>\n",
       "      <td>WASHINGTON (Reuters) - The National Transporta...</td>\n",
       "      <td>0.0</td>\n",
       "      <td>0.0</td>\n",
       "      <td>0.0</td>\n",
       "      <td>2528.0</td>\n",
       "      <td>0.0</td>\n",
       "    </tr>\n",
       "    <tr>\n",
       "      <th>1</th>\n",
       "      <td>1</td>\n",
       "      <td>the-irish-times</td>\n",
       "      <td>The Irish Times</td>\n",
       "      <td>Eoin Burke-Kennedy</td>\n",
       "      <td>Unemployment falls to post-crash low of 5.2%</td>\n",
       "      <td>Latest monthly figures reflect continued growt...</td>\n",
       "      <td>https://www.irishtimes.com/business/economy/un...</td>\n",
       "      <td>https://www.irishtimes.com/image-creator/?id=1...</td>\n",
       "      <td>2019-09-03T10:32:28Z</td>\n",
       "      <td>The States jobless rate fell to 5.2 per cent l...</td>\n",
       "      <td>0.0</td>\n",
       "      <td>6.0</td>\n",
       "      <td>10.0</td>\n",
       "      <td>2.0</td>\n",
       "      <td>0.0</td>\n",
       "    </tr>\n",
       "    <tr>\n",
       "      <th>2</th>\n",
       "      <td>2</td>\n",
       "      <td>the-irish-times</td>\n",
       "      <td>The Irish Times</td>\n",
       "      <td>Deirdre McQuillan</td>\n",
       "      <td>Louise Kennedy AW2019: Long coats, sparkling t...</td>\n",
       "      <td>Autumn-winter collection features designer’s g...</td>\n",
       "      <td>https://www.irishtimes.com/\\t\\t\\t\\t\\t\\t\\t/life...</td>\n",
       "      <td>https://www.irishtimes.com/image-creator/?id=1...</td>\n",
       "      <td>2019-09-03T14:40:00Z</td>\n",
       "      <td>Louise Kennedy is showing off her autumn-winte...</td>\n",
       "      <td>1.0</td>\n",
       "      <td>NaN</td>\n",
       "      <td>NaN</td>\n",
       "      <td>NaN</td>\n",
       "      <td>NaN</td>\n",
       "    </tr>\n",
       "    <tr>\n",
       "      <th>3</th>\n",
       "      <td>3</td>\n",
       "      <td>al-jazeera-english</td>\n",
       "      <td>Al Jazeera English</td>\n",
       "      <td>Al Jazeera</td>\n",
       "      <td>North Korean footballer Han joins Italian gian...</td>\n",
       "      <td>Han is the first North Korean player in the Se...</td>\n",
       "      <td>https://www.aljazeera.com/news/2019/09/north-k...</td>\n",
       "      <td>https://www.aljazeera.com/mritems/Images/2019/...</td>\n",
       "      <td>2019-09-03T17:25:39Z</td>\n",
       "      <td>Han Kwang Song, the first North Korean footbal...</td>\n",
       "      <td>0.0</td>\n",
       "      <td>0.0</td>\n",
       "      <td>0.0</td>\n",
       "      <td>7.0</td>\n",
       "      <td>0.0</td>\n",
       "    </tr>\n",
       "    <tr>\n",
       "      <th>4</th>\n",
       "      <td>4</td>\n",
       "      <td>bbc-news</td>\n",
       "      <td>BBC News</td>\n",
       "      <td>BBC News</td>\n",
       "      <td>UK government lawyer says proroguing parliamen...</td>\n",
       "      <td>The UK government's lawyer, David Johnston arg...</td>\n",
       "      <td>https://www.bbc.co.uk/news/av/uk-scotland-4956...</td>\n",
       "      <td>https://ichef.bbci.co.uk/news/1024/branded_new...</td>\n",
       "      <td>2019-09-03T14:39:21Z</td>\n",
       "      <td>NaN</td>\n",
       "      <td>0.0</td>\n",
       "      <td>0.0</td>\n",
       "      <td>0.0</td>\n",
       "      <td>0.0</td>\n",
       "      <td>0.0</td>\n",
       "    </tr>\n",
       "  </tbody>\n",
       "</table>\n",
       "</div>"
      ],
      "text/plain": [
       "   Unnamed: 0           source_id         source_name              author  \\\n",
       "0           0             reuters             Reuters   Reuters Editorial   \n",
       "1           1     the-irish-times     The Irish Times  Eoin Burke-Kennedy   \n",
       "2           2     the-irish-times     The Irish Times   Deirdre McQuillan   \n",
       "3           3  al-jazeera-english  Al Jazeera English          Al Jazeera   \n",
       "4           4            bbc-news            BBC News            BBC News   \n",
       "\n",
       "                                               title  \\\n",
       "0  NTSB says Autopilot engaged in 2018 California...   \n",
       "1       Unemployment falls to post-crash low of 5.2%   \n",
       "2  Louise Kennedy AW2019: Long coats, sparkling t...   \n",
       "3  North Korean footballer Han joins Italian gian...   \n",
       "4  UK government lawyer says proroguing parliamen...   \n",
       "\n",
       "                                         description  \\\n",
       "0  The National Transportation Safety Board said ...   \n",
       "1  Latest monthly figures reflect continued growt...   \n",
       "2  Autumn-winter collection features designer’s g...   \n",
       "3  Han is the first North Korean player in the Se...   \n",
       "4  The UK government's lawyer, David Johnston arg...   \n",
       "\n",
       "                                                 url  \\\n",
       "0  https://www.reuters.com/article/us-tesla-crash...   \n",
       "1  https://www.irishtimes.com/business/economy/un...   \n",
       "2  https://www.irishtimes.com/\\t\\t\\t\\t\\t\\t\\t/life...   \n",
       "3  https://www.aljazeera.com/news/2019/09/north-k...   \n",
       "4  https://www.bbc.co.uk/news/av/uk-scotland-4956...   \n",
       "\n",
       "                                        url_to_image          published_at  \\\n",
       "0  https://s4.reutersmedia.net/resources/r/?m=02&...  2019-09-03T16:22:20Z   \n",
       "1  https://www.irishtimes.com/image-creator/?id=1...  2019-09-03T10:32:28Z   \n",
       "2  https://www.irishtimes.com/image-creator/?id=1...  2019-09-03T14:40:00Z   \n",
       "3  https://www.aljazeera.com/mritems/Images/2019/...  2019-09-03T17:25:39Z   \n",
       "4  https://ichef.bbci.co.uk/news/1024/branded_new...  2019-09-03T14:39:21Z   \n",
       "\n",
       "                                             content  top_article  \\\n",
       "0  WASHINGTON (Reuters) - The National Transporta...          0.0   \n",
       "1  The States jobless rate fell to 5.2 per cent l...          0.0   \n",
       "2  Louise Kennedy is showing off her autumn-winte...          1.0   \n",
       "3  Han Kwang Song, the first North Korean footbal...          0.0   \n",
       "4                                                NaN          0.0   \n",
       "\n",
       "   engagement_reaction_count  engagement_comment_count  \\\n",
       "0                        0.0                       0.0   \n",
       "1                        6.0                      10.0   \n",
       "2                        NaN                       NaN   \n",
       "3                        0.0                       0.0   \n",
       "4                        0.0                       0.0   \n",
       "\n",
       "   engagement_share_count  engagement_comment_plugin_count  \n",
       "0                  2528.0                              0.0  \n",
       "1                     2.0                              0.0  \n",
       "2                     NaN                              NaN  \n",
       "3                     7.0                              0.0  \n",
       "4                     0.0                              0.0  "
      ]
     },
     "execution_count": 2,
     "metadata": {},
     "output_type": "execute_result"
    }
   ],
   "source": [
    "df = pd.read_csv('../Datasets/internet_news_data/articles_data.csv')\n",
    "df.head()"
   ]
  },
  {
   "cell_type": "code",
   "execution_count": 3,
   "metadata": {
    "ExecuteTime": {
     "end_time": "2021-09-29T18:27:18.649200Z",
     "start_time": "2021-09-29T18:27:18.600351Z"
    }
   },
   "outputs": [
    {
     "name": "stdout",
     "output_type": "stream",
     "text": [
      "<class 'pandas.core.frame.DataFrame'>\n",
      "RangeIndex: 10437 entries, 0 to 10436\n",
      "Data columns (total 15 columns):\n",
      " #   Column                           Non-Null Count  Dtype  \n",
      "---  ------                           --------------  -----  \n",
      " 0   Unnamed: 0                       10437 non-null  int64  \n",
      " 1   source_id                        10437 non-null  object \n",
      " 2   source_name                      10437 non-null  object \n",
      " 3   author                           9417 non-null   object \n",
      " 4   title                            10435 non-null  object \n",
      " 5   description                      10413 non-null  object \n",
      " 6   url                              10436 non-null  object \n",
      " 7   url_to_image                     9781 non-null   object \n",
      " 8   published_at                     10436 non-null  object \n",
      " 9   content                          9145 non-null   object \n",
      " 10  top_article                      10435 non-null  float64\n",
      " 11  engagement_reaction_count        10319 non-null  float64\n",
      " 12  engagement_comment_count         10319 non-null  float64\n",
      " 13  engagement_share_count           10319 non-null  float64\n",
      " 14  engagement_comment_plugin_count  10319 non-null  float64\n",
      "dtypes: float64(5), int64(1), object(9)\n",
      "memory usage: 1.2+ MB\n"
     ]
    }
   ],
   "source": [
    "df.info()"
   ]
  },
  {
   "cell_type": "code",
   "execution_count": 4,
   "metadata": {
    "ExecuteTime": {
     "end_time": "2021-09-29T18:27:21.218152Z",
     "start_time": "2021-09-29T18:27:21.199191Z"
    }
   },
   "outputs": [],
   "source": [
    "df = df[~df['description'].isna()]"
   ]
  },
  {
   "cell_type": "code",
   "execution_count": 5,
   "metadata": {
    "ExecuteTime": {
     "end_time": "2021-09-29T18:27:36.612128Z",
     "start_time": "2021-09-29T18:27:36.564279Z"
    }
   },
   "outputs": [
    {
     "name": "stdout",
     "output_type": "stream",
     "text": [
      "<class 'pandas.core.frame.DataFrame'>\n",
      "Int64Index: 10413 entries, 0 to 10436\n",
      "Data columns (total 15 columns):\n",
      " #   Column                           Non-Null Count  Dtype  \n",
      "---  ------                           --------------  -----  \n",
      " 0   Unnamed: 0                       10413 non-null  int64  \n",
      " 1   source_id                        10413 non-null  object \n",
      " 2   source_name                      10413 non-null  object \n",
      " 3   author                           9406 non-null   object \n",
      " 4   title                            10411 non-null  object \n",
      " 5   description                      10413 non-null  object \n",
      " 6   url                              10412 non-null  object \n",
      " 7   url_to_image                     9770 non-null   object \n",
      " 8   published_at                     10412 non-null  object \n",
      " 9   content                          9139 non-null   object \n",
      " 10  top_article                      10411 non-null  float64\n",
      " 11  engagement_reaction_count        10295 non-null  float64\n",
      " 12  engagement_comment_count         10295 non-null  float64\n",
      " 13  engagement_share_count           10295 non-null  float64\n",
      " 14  engagement_comment_plugin_count  10295 non-null  float64\n",
      "dtypes: float64(5), int64(1), object(9)\n",
      "memory usage: 1.3+ MB\n"
     ]
    }
   ],
   "source": [
    "df.info()"
   ]
  },
  {
   "cell_type": "code",
   "execution_count": 6,
   "metadata": {
    "ExecuteTime": {
     "end_time": "2021-09-29T18:27:42.784749Z",
     "start_time": "2021-09-29T18:27:42.761827Z"
    }
   },
   "outputs": [
    {
     "data": {
      "text/plain": [
       "\"The National Transportation Safety Board said Tuesday a Tesla Model S was in Autopilot mode when it struck a fire truck in Culver City, California -- one of a series of crashes the board is investigating involving Tesla's driver assistance system.\""
      ]
     },
     "execution_count": 6,
     "metadata": {},
     "output_type": "execute_result"
    }
   ],
   "source": [
    "df.description[0]"
   ]
  },
  {
   "cell_type": "markdown",
   "metadata": {},
   "source": [
    "## Basic Text Cleaning"
   ]
  },
  {
   "cell_type": "code",
   "execution_count": 7,
   "metadata": {
    "ExecuteTime": {
     "end_time": "2021-09-29T18:28:28.868048Z",
     "start_time": "2021-09-29T18:28:28.857531Z"
    }
   },
   "outputs": [],
   "source": [
    "def preprocess_text(x):\n",
    "    # Keep only texts and spaces\n",
    "    cleaned_text = re.sub(r'[^a-zA-Z\\d\\s]+', '', x)\n",
    "    word_list = []\n",
    "    # for each word, expand contractions\n",
    "    for each_word in cleaned_text.split(' '):\n",
    "        word_list.append(contractions.fix(each_word).lower())\n",
    "    # for each word in expanded list, get lemmas if not in STOPWORDS list\n",
    "    word_list = [wnl.lemmatize(each_word.strip()) for each_word in word_list if each_word not in STOPWORDS and each_word.strip() != '' and len(each_word.strip()) > 1]\n",
    "    return word_list"
   ]
  },
  {
   "cell_type": "code",
   "execution_count": 8,
   "metadata": {
    "ExecuteTime": {
     "end_time": "2021-09-29T18:28:35.127215Z",
     "start_time": "2021-09-29T18:28:31.229437Z"
    }
   },
   "outputs": [
    {
     "data": {
      "text/plain": [
       "['national',\n",
       " 'transportation',\n",
       " 'safety',\n",
       " 'board',\n",
       " 'said',\n",
       " 'tuesday',\n",
       " 'tesla',\n",
       " 'model',\n",
       " 'autopilot',\n",
       " 'mode',\n",
       " 'struck',\n",
       " 'fire',\n",
       " 'truck',\n",
       " 'culver',\n",
       " 'city',\n",
       " 'california',\n",
       " 'one',\n",
       " 'series',\n",
       " 'crash',\n",
       " 'board',\n",
       " 'investigating',\n",
       " 'involving',\n",
       " 'tesla',\n",
       " 'driver',\n",
       " 'assistance',\n",
       " 'system']"
      ]
     },
     "execution_count": 8,
     "metadata": {},
     "output_type": "execute_result"
    }
   ],
   "source": [
    "preprocess_text(df.description[0]) # testing"
   ]
  },
  {
   "cell_type": "code",
   "execution_count": 9,
   "metadata": {
    "ExecuteTime": {
     "end_time": "2021-09-29T18:28:59.057777Z",
     "start_time": "2021-09-29T18:28:52.055230Z"
    }
   },
   "outputs": [],
   "source": [
    "df['description_cleaned'] = df['description'].apply(preprocess_text)"
   ]
  },
  {
   "cell_type": "markdown",
   "metadata": {},
   "source": [
    "## Creating Dictionary & Corpus for Topic Modeling"
   ]
  },
  {
   "cell_type": "code",
   "execution_count": 10,
   "metadata": {
    "ExecuteTime": {
     "end_time": "2021-09-29T18:29:39.441928Z",
     "start_time": "2021-09-29T18:29:39.419996Z"
    }
   },
   "outputs": [],
   "source": [
    "list_all_descriptions = list(df['description_cleaned']) # Format - List of list of tokens"
   ]
  },
  {
   "cell_type": "code",
   "execution_count": 11,
   "metadata": {
    "ExecuteTime": {
     "end_time": "2021-09-29T18:29:48.159211Z",
     "start_time": "2021-09-29T18:29:48.136285Z"
    }
   },
   "outputs": [
    {
     "data": {
      "text/plain": [
       "['national',\n",
       " 'transportation',\n",
       " 'safety',\n",
       " 'board',\n",
       " 'said',\n",
       " 'tuesday',\n",
       " 'tesla',\n",
       " 'model',\n",
       " 'autopilot',\n",
       " 'mode',\n",
       " 'struck',\n",
       " 'fire',\n",
       " 'truck',\n",
       " 'culver',\n",
       " 'city',\n",
       " 'california',\n",
       " 'one',\n",
       " 'series',\n",
       " 'crash',\n",
       " 'board',\n",
       " 'investigating',\n",
       " 'involving',\n",
       " 'tesla',\n",
       " 'driver',\n",
       " 'assistance',\n",
       " 'system']"
      ]
     },
     "execution_count": 11,
     "metadata": {},
     "output_type": "execute_result"
    }
   ],
   "source": [
    "list_all_descriptions[0]"
   ]
  },
  {
   "cell_type": "code",
   "execution_count": 12,
   "metadata": {
    "ExecuteTime": {
     "end_time": "2021-09-29T18:30:11.660144Z",
     "start_time": "2021-09-29T18:30:11.028019Z"
    }
   },
   "outputs": [],
   "source": [
    "id2word = corpora.Dictionary(list_all_descriptions)"
   ]
  },
  {
   "cell_type": "code",
   "execution_count": 13,
   "metadata": {
    "ExecuteTime": {
     "end_time": "2021-09-29T18:30:27.719645Z",
     "start_time": "2021-09-29T18:30:27.313920Z"
    }
   },
   "outputs": [],
   "source": [
    "corpus = [id2word.doc2bow(each_description) for each_description in list_all_descriptions]"
   ]
  },
  {
   "cell_type": "code",
   "execution_count": 14,
   "metadata": {
    "ExecuteTime": {
     "end_time": "2021-09-29T18:30:30.375664Z",
     "start_time": "2021-09-29T18:30:30.355730Z"
    }
   },
   "outputs": [
    {
     "data": {
      "text/plain": [
       "[(0, 1),\n",
       " (1, 1),\n",
       " (2, 2),\n",
       " (3, 1),\n",
       " (4, 1),\n",
       " (5, 1),\n",
       " (6, 1),\n",
       " (7, 1),\n",
       " (8, 1),\n",
       " (9, 1),\n",
       " (10, 1),\n",
       " (11, 1),\n",
       " (12, 1),\n",
       " (13, 1),\n",
       " (14, 1),\n",
       " (15, 1),\n",
       " (16, 1),\n",
       " (17, 1),\n",
       " (18, 1),\n",
       " (19, 1),\n",
       " (20, 2),\n",
       " (21, 1),\n",
       " (22, 1),\n",
       " (23, 1)]"
      ]
     },
     "execution_count": 14,
     "metadata": {},
     "output_type": "execute_result"
    }
   ],
   "source": [
    "corpus[0] # format - (word_id, word_frequency)."
   ]
  },
  {
   "cell_type": "code",
   "execution_count": 15,
   "metadata": {
    "ExecuteTime": {
     "end_time": "2021-09-29T18:30:51.583206Z",
     "start_time": "2021-09-29T18:30:51.563281Z"
    }
   },
   "outputs": [
    {
     "data": {
      "text/plain": [
       "'tesla'"
      ]
     },
     "execution_count": 15,
     "metadata": {},
     "output_type": "execute_result"
    }
   ],
   "source": [
    "id2word[20] # tesla appears twice"
   ]
  },
  {
   "cell_type": "markdown",
   "metadata": {},
   "source": [
    "## LDA Model"
   ]
  },
  {
   "cell_type": "code",
   "execution_count": 16,
   "metadata": {
    "ExecuteTime": {
     "end_time": "2021-09-29T18:34:49.622082Z",
     "start_time": "2021-09-29T18:33:01.789730Z"
    }
   },
   "outputs": [],
   "source": [
    "lda_model = gensim.models.ldamodel.LdaModel(corpus=corpus,\n",
    "                                            id2word=id2word,\n",
    "                                            num_topics=10,\n",
    "                                            random_state=42,\n",
    "                                            chunksize=100,\n",
    "                                            passes=10,\n",
    "                                            alpha='auto',\n",
    "                                            per_word_topics=True)"
   ]
  },
  {
   "cell_type": "code",
   "execution_count": 17,
   "metadata": {
    "ExecuteTime": {
     "end_time": "2021-09-29T18:34:50.229151Z",
     "start_time": "2021-09-29T18:34:50.189266Z"
    }
   },
   "outputs": [
    {
     "data": {
      "text/plain": [
       "[(0,\n",
       "  '0.048*\"new\" + 0.020*\"one\" + 0.016*\"time\" + 0.014*\"business\" + 0.014*\"story\" + 0.011*\"hour\" + 0.010*\"case\" + 0.009*\"investigates\" + 0.009*\"come\" + 0.008*\"school\"'),\n",
       " (1,\n",
       "  '0.060*\"president\" + 0.049*\"trump\" + 0.032*\"state\" + 0.020*\"donald\" + 0.017*\"latest\" + 0.015*\"staff\" + 0.015*\"five\" + 0.015*\"united\" + 0.014*\"chief\" + 0.013*\"impeachment\"'),\n",
       " (2,\n",
       "  '0.032*\"york\" + 0.027*\"market\" + 0.023*\"investor\" + 0.023*\"man\" + 0.015*\"global\" + 0.013*\"open\" + 0.012*\"husband\" + 0.011*\"border\" + 0.011*\"tariff\" + 0.011*\"attorney\"'),\n",
       " (3,\n",
       "  '0.094*\"news\" + 0.048*\"world\" + 0.034*\"get\" + 0.032*\"top\" + 0.032*\"national\" + 0.031*\"video\" + 0.031*\"find\" + 0.028*\"online\" + 0.027*\"interview\" + 0.026*\"coverage\"'),\n",
       " (4,\n",
       "  '0.031*\"two\" + 0.024*\"former\" + 0.020*\"officer\" + 0.017*\"show\" + 0.015*\"disney\" + 0.015*\"service\" + 0.015*\"joe\" + 0.014*\"biden\" + 0.014*\"son\" + 0.013*\"way\"'),\n",
       " (5,\n",
       "  '0.020*\"take\" + 0.018*\"magic\" + 0.017*\"photo\" + 0.016*\"shot\" + 0.015*\"hong\" + 0.015*\"kong\" + 0.015*\"death\" + 0.014*\"charge\" + 0.014*\"kick\" + 0.013*\"late\"'),\n",
       " (6,\n",
       "  '0.041*\"say\" + 0.041*\"year\" + 0.025*\"police\" + 0.019*\"woman\" + 0.018*\"last\" + 0.014*\"ukraine\" + 0.013*\"city\" + 0.013*\"part\" + 0.012*\"face\" + 0.011*\"court\"'),\n",
       " (7,\n",
       "  '0.045*\"week\" + 0.038*\"wednesday\" + 0.018*\"like\" + 0.017*\"canada\" + 0.014*\"told\" + 0.014*\"back\" + 0.014*\"killer\" + 0.012*\"look\" + 0.012*\"want\" + 0.011*\"senior\"'),\n",
       " (8,\n",
       "  '0.021*\"million\" + 0.020*\"minister\" + 0.017*\"prime\" + 0.017*\"china\" + 0.014*\"european\" + 0.013*\"medium\" + 0.013*\"murder\" + 0.012*\"union\" + 0.012*\"made\" + 0.011*\"proposal\"'),\n",
       " (9,\n",
       "  '0.041*\"said\" + 0.038*\"u\" + 0.031*\"thursday\" + 0.019*\"company\" + 0.016*\"three\" + 0.016*\"first\" + 0.016*\"report\" + 0.013*\"people\" + 0.013*\"deal\" + 0.013*\"stock\"')]"
      ]
     },
     "execution_count": 17,
     "metadata": {},
     "output_type": "execute_result"
    }
   ],
   "source": [
    "lda_model.print_topics()"
   ]
  },
  {
   "cell_type": "markdown",
   "metadata": {},
   "source": [
    "### Compute Coherence Score"
   ]
  },
  {
   "cell_type": "code",
   "execution_count": 18,
   "metadata": {
    "ExecuteTime": {
     "end_time": "2021-09-29T18:40:49.501682Z",
     "start_time": "2021-09-29T18:40:27.220293Z"
    }
   },
   "outputs": [
    {
     "name": "stdout",
     "output_type": "stream",
     "text": [
      "Coherence Score: 0.40152127732653353\n"
     ]
    }
   ],
   "source": [
    "coherence_model_lda = CoherenceModel(model=lda_model,\n",
    "                                     texts=list_all_descriptions,\n",
    "                                     dictionary=id2word,\n",
    "                                     coherence='c_v')\n",
    "coherence_lda = coherence_model_lda.get_coherence()\n",
    "print('Coherence Score: {}'.format(coherence_lda))"
   ]
  },
  {
   "cell_type": "markdown",
   "metadata": {},
   "source": [
    "### Obtain the optimum number of topics"
   ]
  },
  {
   "cell_type": "code",
   "execution_count": 19,
   "metadata": {
    "ExecuteTime": {
     "end_time": "2021-09-29T18:41:02.129225Z",
     "start_time": "2021-09-29T18:41:02.098329Z"
    }
   },
   "outputs": [],
   "source": [
    "def get_optimum_num_topics(min_topics, max_topics, steps=2, graph=True):\n",
    "    list_models = []\n",
    "    list_coherence_score = []\n",
    "    for i in range(min_topics, max_topics + 1, steps):\n",
    "        print(\"Number of Topics: {}\".format(i))\n",
    "        lda_model = gensim.models.ldamodel.LdaModel(corpus=corpus,\n",
    "                                                    id2word=id2word,\n",
    "                                                    num_topics=i,\n",
    "                                                    random_state=42,\n",
    "                                                    chunksize=100,\n",
    "                                                    passes=10,\n",
    "                                                    alpha='auto',\n",
    "                                                    per_word_topics=True)\n",
    "        list_models.append(lda_model)\n",
    "        coherence_model_lda = CoherenceModel(model=lda_model,\n",
    "                                             texts=list_all_descriptions,\n",
    "                                             dictionary=id2word,\n",
    "                                             coherence='c_v')\n",
    "        coherence_lda = coherence_model_lda.get_coherence()\n",
    "        list_coherence_score.append(coherence_lda)\n",
    "    if graph:\n",
    "        sns.lineplot(x=list(range(min_topics, max_topics + 1, steps)), y=list_coherence_score)\n",
    "        plt.show()"
   ]
  },
  {
   "cell_type": "code",
   "execution_count": 20,
   "metadata": {
    "ExecuteTime": {
     "end_time": "2021-09-29T18:48:21.619682Z",
     "start_time": "2021-09-29T18:41:56.392299Z"
    }
   },
   "outputs": [
    {
     "name": "stdout",
     "output_type": "stream",
     "text": [
      "Number of Topics: 5\n",
      "Number of Topics: 7\n",
      "Number of Topics: 9\n"
     ]
    },
    {
     "data": {
      "image/png": "[encoded data removed]",
      "text/plain": [
       "<Figure size 432x288 with 1 Axes>"
      ]
     },
     "metadata": {
      "needs_background": "light"
     },
     "output_type": "display_data"
    }
   ],
   "source": [
    "get_optimum_num_topics(5, 10)"
   ]
  },
  {
   "cell_type": "markdown",
   "metadata": {},
   "source": [
    "### Retrain model"
   ]
  },
  {
   "cell_type": "code",
   "execution_count": null,
   "metadata": {
    "ExecuteTime": {
     "end_time": "2021-09-22T15:03:03.399817Z",
     "start_time": "2021-09-22T15:01:39.921509Z"
    }
   },
   "outputs": [],
   "source": [
    "lda_model = gensim.models.ldamodel.LdaModel(corpus=corpus,\n",
    "                                            id2word=id2word,\n",
    "                                            num_topics=9,\n",
    "                                            random_state=42,\n",
    "                                            chunksize=100,\n",
    "                                            passes=10,\n",
    "                                            alpha='auto',\n",
    "                                            per_word_topics=True)"
   ]
  },
  {
   "cell_type": "code",
   "execution_count": 21,
   "metadata": {
    "ExecuteTime": {
     "end_time": "2021-09-29T18:50:19.200749Z",
     "start_time": "2021-09-29T18:50:19.180818Z"
    }
   },
   "outputs": [
    {
     "data": {
      "text/plain": [
       "[(0,\n",
       "  '0.048*\"new\" + 0.020*\"one\" + 0.016*\"time\" + 0.014*\"business\" + 0.014*\"story\"'),\n",
       " (1,\n",
       "  '0.060*\"president\" + 0.049*\"trump\" + 0.032*\"state\" + 0.020*\"donald\" + 0.017*\"latest\"'),\n",
       " (2,\n",
       "  '0.032*\"york\" + 0.027*\"market\" + 0.023*\"investor\" + 0.023*\"man\" + 0.015*\"global\"'),\n",
       " (3,\n",
       "  '0.094*\"news\" + 0.048*\"world\" + 0.034*\"get\" + 0.032*\"top\" + 0.032*\"national\"'),\n",
       " (4,\n",
       "  '0.031*\"two\" + 0.024*\"former\" + 0.020*\"officer\" + 0.017*\"show\" + 0.015*\"disney\"'),\n",
       " (5,\n",
       "  '0.020*\"take\" + 0.018*\"magic\" + 0.017*\"photo\" + 0.016*\"shot\" + 0.015*\"hong\"'),\n",
       " (6,\n",
       "  '0.041*\"say\" + 0.041*\"year\" + 0.025*\"police\" + 0.019*\"woman\" + 0.018*\"last\"'),\n",
       " (7,\n",
       "  '0.045*\"week\" + 0.038*\"wednesday\" + 0.018*\"like\" + 0.017*\"canada\" + 0.014*\"told\"'),\n",
       " (8,\n",
       "  '0.021*\"million\" + 0.020*\"minister\" + 0.017*\"prime\" + 0.017*\"china\" + 0.014*\"european\"'),\n",
       " (9,\n",
       "  '0.041*\"said\" + 0.038*\"u\" + 0.031*\"thursday\" + 0.019*\"company\" + 0.016*\"three\"')]"
      ]
     },
     "execution_count": 21,
     "metadata": {},
     "output_type": "execute_result"
    }
   ],
   "source": [
    "lda_model.print_topics(num_words=5)"
   ]
  },
  {
   "cell_type": "code",
   "execution_count": 22,
   "metadata": {
    "ExecuteTime": {
     "end_time": "2021-09-29T18:51:00.866989Z",
     "start_time": "2021-09-29T18:51:00.835057Z"
    }
   },
   "outputs": [],
   "source": [
    "def format_topics_sentences(ldamodel=lda_model, corpus=corpus, texts=list_all_descriptions):\n",
    "    # Init output\n",
    "    sent_topics_df = pd.DataFrame()\n",
    "\n",
    "    # Get main topic in each document\n",
    "    for i, row in enumerate(ldamodel[corpus]):\n",
    "        row = sorted(row[0], key=lambda x: x[1], reverse=True)\n",
    "        # Get the Dominant topic, Perc Contribution and Keywords for each document\n",
    "        for j, (topic_num, prop_topic) in enumerate(row):\n",
    "            if j == 0:  # => dominant topic\n",
    "                wp = ldamodel.show_topic(topic_num)\n",
    "                topic_keywords = \", \".join([word for word, prop in wp])\n",
    "                sent_topics_df = sent_topics_df.append(pd.Series([int(topic_num), round(prop_topic,4), topic_keywords]), ignore_index=True)\n",
    "            else:\n",
    "                break\n",
    "    sent_topics_df.columns = ['Dominant_Topic', 'Perc_Contribution', 'Topic_Keywords']\n",
    "\n",
    "    # Add original text to the end of the output\n",
    "    contents = pd.Series(texts)\n",
    "    sent_topics_df = pd.concat([sent_topics_df, contents], axis=1)\n",
    "    return(sent_topics_df)"
   ]
  },
  {
   "cell_type": "code",
   "execution_count": 23,
   "metadata": {
    "ExecuteTime": {
     "end_time": "2021-09-29T18:53:19.181804Z",
     "start_time": "2021-09-29T18:51:26.689750Z"
    }
   },
   "outputs": [],
   "source": [
    "df_topic_sents_keywords = format_topics_sentences(ldamodel=lda_model, corpus=corpus, texts=list_all_descriptions)"
   ]
  },
  {
   "cell_type": "code",
   "execution_count": 24,
   "metadata": {
    "ExecuteTime": {
     "end_time": "2021-09-29T18:53:19.732240Z",
     "start_time": "2021-09-29T18:53:19.688389Z"
    }
   },
   "outputs": [
    {
     "data": {
      "text/html": [
       "<div>\n",
       "<style scoped>\n",
       "    .dataframe tbody tr th:only-of-type {\n",
       "        vertical-align: middle;\n",
       "    }\n",
       "\n",
       "    .dataframe tbody tr th {\n",
       "        vertical-align: top;\n",
       "    }\n",
       "\n",
       "    .dataframe thead th {\n",
       "        text-align: right;\n",
       "    }\n",
       "</style>\n",
       "<table border=\"1\" class=\"dataframe\">\n",
       "  <thead>\n",
       "    <tr style=\"text-align: right;\">\n",
       "      <th></th>\n",
       "      <th>Dominant_Topic</th>\n",
       "      <th>Perc_Contribution</th>\n",
       "      <th>Topic_Keywords</th>\n",
       "      <th>0</th>\n",
       "    </tr>\n",
       "  </thead>\n",
       "  <tbody>\n",
       "    <tr>\n",
       "      <th>0</th>\n",
       "      <td>6.0</td>\n",
       "      <td>0.5448</td>\n",
       "      <td>say, year, police, woman, last, ukraine, city,...</td>\n",
       "      <td>[national, transportation, safety, board, said...</td>\n",
       "    </tr>\n",
       "    <tr>\n",
       "      <th>1</th>\n",
       "      <td>1.0</td>\n",
       "      <td>0.3476</td>\n",
       "      <td>president, trump, state, donald, latest, staff...</td>\n",
       "      <td>[latest, monthly, figure, reflect, continued, ...</td>\n",
       "    </tr>\n",
       "    <tr>\n",
       "      <th>2</th>\n",
       "      <td>5.0</td>\n",
       "      <td>0.3858</td>\n",
       "      <td>take, magic, photo, shot, hong, kong, death, c...</td>\n",
       "      <td>[autumnwinter, collection, feature, designer, ...</td>\n",
       "    </tr>\n",
       "    <tr>\n",
       "      <th>3</th>\n",
       "      <td>6.0</td>\n",
       "      <td>0.2967</td>\n",
       "      <td>say, year, police, woman, last, ukraine, city,...</td>\n",
       "      <td>[han, first, north, korean, player, serie, pra...</td>\n",
       "    </tr>\n",
       "    <tr>\n",
       "      <th>4</th>\n",
       "      <td>5.0</td>\n",
       "      <td>0.2100</td>\n",
       "      <td>take, magic, photo, shot, hong, kong, death, c...</td>\n",
       "      <td>[uk, government, lawyer, david, johnston, argu...</td>\n",
       "    </tr>\n",
       "    <tr>\n",
       "      <th>...</th>\n",
       "      <td>...</td>\n",
       "      <td>...</td>\n",
       "      <td>...</td>\n",
       "      <td>...</td>\n",
       "    </tr>\n",
       "    <tr>\n",
       "      <th>10408</th>\n",
       "      <td>3.0</td>\n",
       "      <td>0.5987</td>\n",
       "      <td>news, world, get, top, national, video, find, ...</td>\n",
       "      <td>[get, breaking, national, world, news, broadca...</td>\n",
       "    </tr>\n",
       "    <tr>\n",
       "      <th>10409</th>\n",
       "      <td>1.0</td>\n",
       "      <td>0.1752</td>\n",
       "      <td>president, trump, state, donald, latest, staff...</td>\n",
       "      <td>[announcement, julius, baer, week, hired, five...</td>\n",
       "    </tr>\n",
       "    <tr>\n",
       "      <th>10410</th>\n",
       "      <td>6.0</td>\n",
       "      <td>0.2283</td>\n",
       "      <td>say, year, police, woman, last, ukraine, city,...</td>\n",
       "      <td>[weston, newswanger, normal, 5yearold, boy, ex...</td>\n",
       "    </tr>\n",
       "    <tr>\n",
       "      <th>10411</th>\n",
       "      <td>0.0</td>\n",
       "      <td>0.3398</td>\n",
       "      <td>new, one, time, business, story, hour, case, i...</td>\n",
       "      <td>[detective, haunted, case, two, woman, missing...</td>\n",
       "    </tr>\n",
       "    <tr>\n",
       "      <th>10412</th>\n",
       "      <td>6.0</td>\n",
       "      <td>0.3233</td>\n",
       "      <td>say, year, police, woman, last, ukraine, city,...</td>\n",
       "      <td>[wanted, onetime, millionaire, lanny, horwitz,...</td>\n",
       "    </tr>\n",
       "  </tbody>\n",
       "</table>\n",
       "<p>10413 rows × 4 columns</p>\n",
       "</div>"
      ],
      "text/plain": [
       "       Dominant_Topic  Perc_Contribution  \\\n",
       "0                 6.0             0.5448   \n",
       "1                 1.0             0.3476   \n",
       "2                 5.0             0.3858   \n",
       "3                 6.0             0.2967   \n",
       "4                 5.0             0.2100   \n",
       "...               ...                ...   \n",
       "10408             3.0             0.5987   \n",
       "10409             1.0             0.1752   \n",
       "10410             6.0             0.2283   \n",
       "10411             0.0             0.3398   \n",
       "10412             6.0             0.3233   \n",
       "\n",
       "                                          Topic_Keywords  \\\n",
       "0      say, year, police, woman, last, ukraine, city,...   \n",
       "1      president, trump, state, donald, latest, staff...   \n",
       "2      take, magic, photo, shot, hong, kong, death, c...   \n",
       "3      say, year, police, woman, last, ukraine, city,...   \n",
       "4      take, magic, photo, shot, hong, kong, death, c...   \n",
       "...                                                  ...   \n",
       "10408  news, world, get, top, national, video, find, ...   \n",
       "10409  president, trump, state, donald, latest, staff...   \n",
       "10410  say, year, police, woman, last, ukraine, city,...   \n",
       "10411  new, one, time, business, story, hour, case, i...   \n",
       "10412  say, year, police, woman, last, ukraine, city,...   \n",
       "\n",
       "                                                       0  \n",
       "0      [national, transportation, safety, board, said...  \n",
       "1      [latest, monthly, figure, reflect, continued, ...  \n",
       "2      [autumnwinter, collection, feature, designer, ...  \n",
       "3      [han, first, north, korean, player, serie, pra...  \n",
       "4      [uk, government, lawyer, david, johnston, argu...  \n",
       "...                                                  ...  \n",
       "10408  [get, breaking, national, world, news, broadca...  \n",
       "10409  [announcement, julius, baer, week, hired, five...  \n",
       "10410  [weston, newswanger, normal, 5yearold, boy, ex...  \n",
       "10411  [detective, haunted, case, two, woman, missing...  \n",
       "10412  [wanted, onetime, millionaire, lanny, horwitz,...  \n",
       "\n",
       "[10413 rows x 4 columns]"
      ]
     },
     "execution_count": 24,
     "metadata": {},
     "output_type": "execute_result"
    }
   ],
   "source": [
    "df_topic_sents_keywords"
   ]
  },
  {
   "cell_type": "code",
   "execution_count": 25,
   "metadata": {
    "ExecuteTime": {
     "end_time": "2021-09-29T18:53:20.295357Z",
     "start_time": "2021-09-29T18:53:20.268448Z"
    }
   },
   "outputs": [
    {
     "data": {
      "text/plain": [
       "9.0    2908\n",
       "0.0    2231\n",
       "6.0    1365\n",
       "1.0     983\n",
       "8.0     854\n",
       "4.0     724\n",
       "3.0     714\n",
       "7.0     347\n",
       "2.0     155\n",
       "5.0     132\n",
       "Name: Dominant_Topic, dtype: int64"
      ]
     },
     "execution_count": 25,
     "metadata": {},
     "output_type": "execute_result"
    }
   ],
   "source": [
    "df_topic_sents_keywords['Dominant_Topic'].value_counts()"
   ]
  },
  {
   "cell_type": "code",
   "execution_count": 27,
   "metadata": {
    "ExecuteTime": {
     "end_time": "2021-09-29T19:13:27.389261Z",
     "start_time": "2021-09-29T19:13:27.378083Z"
    }
   },
   "outputs": [
    {
     "data": {
      "text/plain": [
       "1        [latest, monthly, figure, reflect, continued, ...\n",
       "34       [president, donald, trump, suggested, tuesday,...\n",
       "37       [chief, staff, marc, short, said, suggestion, ...\n",
       "39       [ash, 2019, england, jofra, archer, celebrates...\n",
       "40       [pences, chief, staff, marc, short, said, deci...\n",
       "                               ...                        \n",
       "10375    [82000, raised, help, james, martin, injured, ...\n",
       "10377    [global, antipoverty, nonprofit, oxfam, releas...\n",
       "10386    [kurt, volker, resigned, last, week, named, wh...\n",
       "10393    [top, european, court, ruled, facebook, intern...\n",
       "10409    [announcement, julius, baer, week, hired, five...\n",
       "Name: 0, Length: 983, dtype: object"
      ]
     },
     "execution_count": 27,
     "metadata": {},
     "output_type": "execute_result"
    }
   ],
   "source": [
    "df_topic_sents_keywords[df_topic_sents_keywords['Dominant_Topic'] == 1][0]"
   ]
  }
 ],
 "metadata": {
  "kernelspec": {
   "display_name": "Python 3",
   "language": "python",
   "name": "python3"
  },
  "language_info": {
   "codemirror_mode": {
    "name": "ipython",
    "version": 3
   },
   "file_extension": ".py",
   "mimetype": "text/x-python",
   "name": "python",
   "nbconvert_exporter": "python",
   "pygments_lexer": "ipython3",
   "version": "3.8.5"
  },
  "toc": {
   "base_numbering": 1,
   "nav_menu": {},
   "number_sections": true,
   "sideBar": true,
   "skip_h1_title": false,
   "title_cell": "Table of Contents",
   "title_sidebar": "Contents",
   "toc_cell": false,
   "toc_position": {
    "height": "calc(100% - 180px)",
    "left": "10px",
    "top": "150px",
    "width": "300.792px"
   },
   "toc_section_display": true,
   "toc_window_display": true
  },
  "varInspector": {
   "cols": {
    "lenName": 16,
    "lenType": 16,
    "lenVar": 40
   },
   "kernels_config": {
    "python": {
     "delete_cmd_postfix": "",
     "delete_cmd_prefix": "del ",
     "library": "var_list.py",
     "varRefreshCmd": "print(var_dic_list())"
    },
    "r": {
     "delete_cmd_postfix": ") ",
     "delete_cmd_prefix": "rm(",
     "library": "var_list.r",
     "varRefreshCmd": "cat(var_dic_list()) "
    }
   },
   "types_to_exclude": [
    "module",
    "function",
    "builtin_function_or_method",
    "instance",
    "_Feature"
   ],
   "window_display": false
  }
 },
 "nbformat": 4,
 "nbformat_minor": 4
}
